{
  "cells": [
    {
      "cell_type": "markdown",
      "metadata": {
        "id": "view-in-github",
        "colab_type": "text"
      },
      "source": [
        "<a href=\"https://colab.research.google.com/github/ssoma2mc/Data110/blob/main/ShinkoSoma_Week2_class_sp25.ipynb\" target=\"_parent\"><img src=\"https://colab.research.google.com/assets/colab-badge.svg\" alt=\"Open In Colab\"/></a>"
      ]
    },
    {
      "cell_type": "code",
      "execution_count": null,
      "metadata": {
        "id": "Xv1HkBink8PB"
      },
      "outputs": [],
      "source": [
        "import matplotlib.pyplot as plt\n",
        "import numpy as np\n",
        "import pandas as pd"
      ]
    },
    {
      "cell_type": "markdown",
      "source": [],
      "metadata": {
        "id": "GYyER_p0MSNv"
      }
    },
    {
      "cell_type": "markdown",
      "metadata": {
        "id": "MNc4Mdt7mwtX"
      },
      "source": [
        "# Working with Dataset Files (CSV)\n",
        "\n",
        "There are two main ways to load data into your notebook:\n",
        "\n",
        "1. **Direct Upload**: Upload a CSV file directly to Google Colab\n",
        "   - Good for small to medium files\n",
        "   - You'll need to re-upload if you close and reopen Colab\n",
        "\n",
        "2. **GitHub URL**: Use a direct link to the raw file on GitHub\n",
        "   - Works for any file size\n",
        "   - No need to upload files manually\n",
        "   - Links remain stable\n",
        "\n",
        "For this tutorial, we'll be working with 'happiness_2017.csv'."
      ]
    },
    {
      "cell_type": "code",
      "execution_count": null,
      "metadata": {
        "id": "dlUIlnKGl9P6"
      },
      "outputs": [],
      "source": [
        "df=pd.read_csv(\"https://raw.githubusercontent.com/Reben80/Data110-32008--Sp25/refs/heads/main/dataset/happiness_2017.csv\")\n",
        "# or\n",
        "\n",
        "#in case you have the csv file already upploaded to the google colab directory ( left side panel) remember if you close and come back another day this you still need to uplad this agaion\n",
        "#df=pd.read_csv(\"/content/drive/MyDrive/Colab Notebooks/DATA110/happiness.csv\") # Prof. Muhammad already cleaned the data, so 'hapiness_2017 is not equal to 'hapiness'\n"
      ]
    },
    {
      "cell_type": "markdown",
      "metadata": {
        "id": "c7XOKvMToPkp"
      },
      "source": [
        "# Exploring Your Dataset\n",
        "\n",
        "When working with a new dataset, there are several essential steps to understand your data:\n",
        "\n",
        "1. **View Sample Data**: Use `df.head()` to see the first few rows\n",
        "   - `df.head()` shows first 5 rows\n",
        "   - `df.head(10)` shows first 10 rows\n",
        "   - `df.tail()` shows last 5 rows\n",
        "\n",
        "This gives you a quick preview of what your data looks like."
      ]
    },
    {
      "cell_type": "code",
      "execution_count": null,
      "metadata": {
        "id": "ffc4zOFdoguV"
      },
      "outputs": [],
      "source": [
        "df.head()\n",
        "#df.head(10)"
      ]
    },
    {
      "cell_type": "code",
      "execution_count": null,
      "metadata": {
        "id": "rjNBmfyFozU-"
      },
      "outputs": [],
      "source": [
        "df.tail()"
      ]
    },
    {
      "cell_type": "markdown",
      "metadata": {
        "id": "hELqYPsCozHw"
      },
      "source": [
        "# Understanding Your Data Structure\n",
        "\n",
        "`df.info()` is a powerful command that tells you:\n",
        "- How many rows and columns you have\n",
        "- The name of each column\n",
        "- The data type of each column (int, float, string, etc.)\n",
        "- How many non-null values exist\n",
        "- How much memory your data is using\n",
        "\n",
        "This is crucial for identifying missing data and understanding your dataset's structure."
      ]
    },
    {
      "cell_type": "code",
      "execution_count": null,
      "metadata": {
        "id": "uZ1r2aUgpQCv"
      },
      "outputs": [],
      "source": [
        "df.info()"
      ]
    },
    {
      "cell_type": "markdown",
      "metadata": {
        "id": "jpYMmajEpOrn"
      },
      "source": [
        "# Statistical Summary\n",
        "\n",
        "For numerical data, `df.describe()` provides key statistics:\n",
        "- count: number of non-null values\n",
        "- mean: average value\n",
        "- std: standard deviation\n",
        "- min: minimum value\n",
        "- 25%, 50%, 75%: quartile values\n",
        "- max: maximum value\n",
        "\n",
        "This helps you understand the distribution of your numerical data."
      ]
    },
    {
      "cell_type": "code",
      "execution_count": null,
      "metadata": {
        "id": "NewiqzlipqME"
      },
      "outputs": [],
      "source": [
        "df.describe()"
      ]
    },
    {
      "cell_type": "markdown",
      "metadata": {
        "id": "sFqZz2IupjWf"
      },
      "source": [
        "# Working with Column Names\n",
        "\n",
        "A helpful tip: Instead of typing column names manually (which can lead to errors), you can:\n",
        "1. Use `print(df.columns)` to see all column names\n",
        "2. Copy and paste the exact column names you need\n",
        "3. This prevents typos that could cause your code to fail"
      ]
    },
    {
      "cell_type": "code",
      "execution_count": null,
      "metadata": {
        "id": "rtHgMrKJqL3e"
      },
      "outputs": [],
      "source": [
        "print(df.columns)"
      ]
    },
    {
      "cell_type": "markdown",
      "metadata": {
        "id": "QhXUecT-pz3B"
      },
      "source": [
        "# Creating Scatter Plots\n",
        "\n",
        "Now we'll learn how to create scatter plots using matplotlib. A scatter plot is perfect for showing relationships between two variables.\n",
        "\n",
        "Basic syntax: `plt.scatter(x_data, y_data)`\n",
        "\n",
        "We'll improve our plots step by step:\n",
        "1. Start with a basic plot\n",
        "2. Add proper sizing\n",
        "3. Include labels and titles\n",
        "4. Customize the appearance"
      ]
    },
    {
      "cell_type": "code",
      "source": [
        "plt.style.use('default')"
      ],
      "metadata": {
        "id": "fDCuKFMqxmSr"
      },
      "execution_count": null,
      "outputs": []
    },
    {
      "cell_type": "code",
      "execution_count": null,
      "metadata": {
        "id": "2PjUJ8HXqEM6"
      },
      "outputs": [],
      "source": [
        "plt.scatter(df['Rank'],df['HappinessScore'])"
      ]
    },
    {
      "cell_type": "markdown",
      "metadata": {
        "id": "7MITOyObqHkM"
      },
      "source": [
        "# Customizing Plot Size\n",
        "\n",
        "The figure size determines how large your plot will appear:\n",
        "- `plt.figure(figsize=(width, height))`\n",
        "- Width and height are in inches\n",
        "- Common sizes: (10,6), (16,10)\n",
        "- Larger figures are better for presentations\n",
        "- Smaller figures work well for documents"
      ]
    },
    {
      "cell_type": "code",
      "execution_count": null,
      "metadata": {
        "id": "t9-PSoNMqcz9"
      },
      "outputs": [],
      "source": [
        "plt.figure(figsize=(16,10))\n",
        "plt.scatter(df['Rank'],df['HappinessScore'])"
      ]
    },
    {
      "cell_type": "markdown",
      "metadata": {
        "id": "oOTSwnOcqgDe"
      },
      "source": [
        "# Essential Plot Components\n",
        "\n",
        "Every professional plot should include:\n",
        "1. **X-axis label**: `plt.xlabel('Label Name')`\n",
        "2. **Y-axis label**: `plt.ylabel('Label Name')`\n",
        "3. **Title**: `plt.title('Your Title')`\n",
        "4. **plt.show()**: Always end with this to display the plot cleanly\n",
        "\n",
        "These elements help others understand your visualization immediately."
      ]
    },
    {
      "cell_type": "code",
      "execution_count": null,
      "metadata": {
        "id": "6z1yleZSqTb4"
      },
      "outputs": [],
      "source": [
        "plt.figure(figsize=(16,10))\n",
        "plt.scatter(df['Rank'],df['HappinessScore'])\n",
        "plt.xlabel('Rank')\n",
        "plt.ylabel('Happiness Score')\n",
        "plt.title(\" Rank vs Hapiness\")\n",
        "plt.show()\n",
        "\n",
        "# info about scatter plot https://matplotlib.org/stable/api/_as_gen/matplotlib.pyplot.scatter.html"
      ]
    },
    {
      "cell_type": "markdown",
      "metadata": {
        "id": "advanced_scatter_customization"
      },
      "source": [
        "# Advanced Scatter Plot Customization\n",
        "\n",
        "Let's create a professional-looking scatter plot with all the important customization options:\n",
        "\n",
        "**Key Parameters:**\n",
        "- `color`: Choose point color ('blue', 'red', etc.)\n",
        "- `marker`: Point shape ('o' for circle, 's' for square, '^' for triangle)\n",
        "- `edgecolors`: Outline color of points\n",
        "- `alpha`: Transparency (0 to 1)\n",
        "- `s`: Point size\n",
        "\n",
        "**Styling Elements:**\n",
        "- `fontsize`: Control text size\n",
        "- `fontweight`: Make text bold\n",
        "- `grid`: Add background grid\n",
        "- `xticks/yticks`: Customize axis numbers\n",
        "\n",
        "Below is a complete example using these parameters:"
      ]
    },
    {
      "cell_type": "code",
      "execution_count": null,
      "metadata": {
        "id": "M2W_9xaerXLs"
      },
      "outputs": [],
      "source": [
        "# Explanation of Scatter Plot Parameters\n",
        "\n",
        "\n",
        "# Set the figure size\n",
        "plt.figure(figsize=(16,10))  # 16 inches wide and 10 inches tall for better readability\n",
        "\n",
        "# Scatter plot with styling\n",
        "plt.scatter(df['Rank'], df['HappinessScore'],\n",
        "            color='blue',         # Sets marker color to blue\n",
        "            marker='o',           # Uses circular markers\n",
        "            edgecolors='black',    # Adds a black outline to markers\n",
        "            alpha=0.75,           # Makes points slightly transparent (75% opacity)\n",
        "            s=50)                # change marker size\n",
        "\n",
        "# X and Y axis labels with styling\n",
        "plt.xlabel('Rank', fontsize=14, fontweight='bold')  # Bold and larger font for readability\n",
        "plt.ylabel('Happiness Score', fontsize=14, fontweight='bold')\n",
        "\n",
        "# Title of the plot\n",
        "plt.title(\"Rank vs Happiness Score\", fontsize=18, fontweight='bold')  # Larger and bold title\n",
        "\n",
        "# Grid for better readability\n",
        "plt.grid(True, linestyle='--', alpha=0.5)  # Dashed grid lines with slight transparency\n",
        "\n",
        "# Adjust tick label size\n",
        "plt.xticks(fontsize=12)\n",
        "plt.yticks(fontsize=12)\n",
        "\n",
        "# Invert x-axis if lower rank means better happiness\n",
        "plt.gca().invert_xaxis()\n",
        "\n",
        "# Show the plot\n",
        "plt.show()\n"
      ]
    },
    {
      "cell_type": "markdown",
      "metadata": {
        "id": "UIkei8MVsWke"
      },
      "source": [
        "# Styling Your Plots\n",
        "\n",
        "Matplotlib offers pre-built styles to make your plots look professional:\n",
        "1. Check available styles with `plt.style.available`\n",
        "2. Apply a style with `plt.style.use('style_name')`\n",
        "3. Popular styles include:\n",
        "   - 'ggplot': Clean, professional look (from R)\n",
        "   - 'seaborn': Modern, attractive defaults\n",
        "   - 'classic': Traditional matplotlib style\n",
        "\n",
        "Try different styles to find what works best for your presentation!"
      ]
    },
    {
      "cell_type": "code",
      "execution_count": null,
      "metadata": {
        "id": "gTvwLjTSn8sf"
      },
      "outputs": [],
      "source": [
        "plt.style.available"
      ]
    },
    {
      "cell_type": "code",
      "execution_count": null,
      "metadata": {
        "id": "u2KAziXon49m"
      },
      "outputs": [],
      "source": [
        "plt.style.use('ggplot')"
      ]
    },
    {
      "cell_type": "code",
      "execution_count": null,
      "metadata": {
        "id": "tmMC9uA0n-WY"
      },
      "outputs": [],
      "source": [
        "plt.figure(figsize=(16,10))\n",
        "plt.scatter(df['Rank'],df['HappinessScore'])\n",
        "plt.xlabel('Rank')\n",
        "plt.ylabel('Happiness Score')\n",
        "plt.title(\" Rank vs Hapiness\")\n",
        "plt.show()"
      ]
    },
    {
      "cell_type": "markdown",
      "metadata": {
        "id": "kNOh6a3hs2lJ"
      },
      "source": [
        "a good place to learn more about how to style your scatter plot, it the offical website of [Matplotlib](https://matplotlib.org/stable/api/_as_gen/matplotlib.pyplot.scatter.html). check it our and try to experment with some of the setting."
      ]
    },
    {
      "cell_type": "markdown",
      "metadata": {
        "id": "practice_assignments"
      },
      "source": [
        "# Practice Assignments 📊\n",
        "\n",
        "Let's practice creating scatter plots using different variables from our happiness dataset!\n",
        "\n",
        "### Assignment 1: Basic Scatter Plot\n",
        "Create a scatter plot showing the relationship between 'Log GDP per capita' and 'HappinessScore'.\n",
        "- Use appropriate axis labels\n",
        "- Add a title\n",
        "- Set figure size to (12,8)\n",
        "\n",
        "### Assignment 2: Styled Scatter Plot\n",
        "Create a scatter plot comparing 'Social support' vs 'Healthy life expectancy at birth'.\n",
        "- Use red markers with black edges\n",
        "- Set marker size to 100\n",
        "- Add a grid\n",
        "- Make markers semi-transparent (alpha=0.6)\n",
        "\n",
        "### Assignment 3: Advanced Visualization\n",
        "Create a scatter plot showing 'Freedom to make life choices' vs 'Positive affect'.\n",
        "- Use triangle markers ('^')\n",
        "- Make the plot blue with yellow edges\n",
        "- Add bold labels\n",
        "- Include a grid with dashed lines\n",
        "\n",
        "### Bonus Challenge 🌟\n",
        "Create a scatter plot comparing any two variables of your choice, but:\n",
        "- Use a style from `plt.style.available`\n",
        "- Add custom font sizes for labels\n",
        "- Include a brief interpretation of what the plot shows\n",
        "\n"
      ]
    },
    {
      "cell_type": "code",
      "source": [
        "plt.style.use('default')"
      ],
      "metadata": {
        "id": "QskYL3_Ox5DY"
      },
      "execution_count": null,
      "outputs": []
    },
    {
      "cell_type": "code",
      "execution_count": null,
      "metadata": {
        "id": "NO-O185Z2mfd"
      },
      "outputs": [],
      "source": [
        "# Your code should be here\n",
        "\n",
        "# Assignment 1: Basic Scatter Plot\n",
        "## Create a scatter plot showing the relationship between 'Log GDP per capita' and 'HappinessScore'.\n",
        "####### #1 Use appropriate axis labels\n",
        "####### #2 Add a title\n",
        "####### #3 Set figure size to (12,8)\n",
        "\n",
        "# Set the figure size\n",
        "plt.figure(figsize=(12,8))      #3 Set figure size to (12,8)\n",
        "\n",
        "# Scatter plot with styling\n",
        "plt.scatter(df['Log GDP per capita'], df['HappinessScore'])\n",
        "\n",
        "# X and Y axis labels with styling\n",
        "plt.xlabel('Log GDP per capita', fontsize=14)  #1 Use appropriate axis labels\n",
        "plt.ylabel('Happiness Score', fontsize=14)\n",
        "\n",
        "# Title of the plot\n",
        "plt.title(\"Log GDP per capita vs Happiness Score\", fontsize=18, fontweight='bold')  #2 Add a title"
      ]
    },
    {
      "cell_type": "code",
      "source": [
        "# Assignment 2: Styled Scatter Plot\n",
        "## Create a scatter plot comparing 'Social support' vs 'Healthy life expectancy at birth'.\n",
        "###### #4 Use red markers with black edges\n",
        "###### #5 Set marker size to 100\n",
        "###### #6 Add a grid\n",
        "###### #7 Make markers semi-transparent (alpha=0.6)\n",
        "\n",
        "# Set the figure size\n",
        "plt.figure(figsize=(12,8))      #3 Set figure size to (12,8)\n",
        "\n",
        "# Scatter plot with styling\n",
        "plt.scatter(df['Social support'], df['Healthy life expectancy at birth'],\n",
        "            color='red',   #4 Use red markers with black edges\n",
        "            edgecolors='black',\n",
        "            alpha=0.6,     #7 Make markers semi-transparent (alpha=0.6)\n",
        "            s=100.         #5 Set marker size to 100\n",
        "            )\n",
        "\n",
        "# X and Y axis labels with styling\n",
        "plt.xlabel('Social support', fontsize=14)  #1 Use appropriate axis labels\n",
        "plt.ylabel('Healthy life expectancy at birth', fontsize=14)\n",
        "\n",
        "# Title of the plot\n",
        "plt.title(\"Social support vs Healthy life expectancy at birth\", fontsize=18, fontweight='bold')  #2 Add a title\n",
        "\n",
        "# Grid for better readability\n",
        "plt.grid(True, alpha=0.5)  #6 Add a grid\n",
        "\n"
      ],
      "metadata": {
        "id": "iWOmAXTlWEq1"
      },
      "execution_count": null,
      "outputs": []
    },
    {
      "cell_type": "code",
      "source": [
        "# Assignment 3: Advanced Visualization\n",
        "## Create a scatter plot showing 'Freedom to make life choices' vs 'Positive affect'.\n",
        "###### #8 Use triangle markers ('^')\n",
        "###### #9 Make the plot blue with yellow edges\n",
        "###### #10 Add bold labels\n",
        "###### #11 Include a grid with dashed lines\n",
        "\n",
        "# Set the figure size\n",
        "plt.figure(figsize=(12,8))      #3 Set figure size to (12,8)\n",
        "\n",
        "# Scatter plot with styling\n",
        "plt.scatter(df['Freedom to make life choices'], df['Positive affect'],\n",
        "            marker='^',          #8 Use triangle markers ('^')s\n",
        "            color='blue',   #9 Make the plot blue with yellow edges\n",
        "            edgecolors='yellow',\n",
        "            alpha=0.6,     #7 Make markers semi-transparent (alpha=0.6)\n",
        "            s=100.         #5 Set marker size to 100\n",
        "            )\n",
        "\n",
        "# X and Y axis labels with styling\n",
        "plt.xlabel('Freedom to make life choices', fontsize=14, fontweight='bold')  #1 Use appropriate axis labels, #10 Add bold labels\n",
        "plt.ylabel('Positive affect', fontsize=14, fontweight='bold')\n",
        "\n",
        "# Title of the plot\n",
        "plt.title(\"Freedom to make life choices vs Happiness Score\", fontsize=18, fontweight='bold')  #2 Add a title\n",
        "\n",
        "# Grid for better readability\n",
        "plt.grid(True, linestyle='--', alpha=0.5)  #6 Add a grid, #11 Include a grid with dashed lines\n",
        "\n",
        "# Invert x-axis if lower rank means better happiness\n",
        "#plt.gca().invert_xaxis()\n",
        "\n",
        "# Show the plot\n",
        "plt.show()"
      ],
      "metadata": {
        "id": "934gUsBrY_uN"
      },
      "execution_count": null,
      "outputs": []
    },
    {
      "cell_type": "code",
      "source": [
        "# Bonus Challenge 🌟\n",
        "## Create a scatter plot comparing any two variables of your choice, but:\n",
        "###### #12 Use a style from plt.style.available\n",
        "###### #13 Add custom font sizes for labels\n",
        "###### #14 Include a brief interpretation of what the plot shows\n",
        "\n",
        "plt.style.use('seaborn-v0_8-poster') #12 Use a style from plt.style.available\n",
        "\n",
        "# Set the figure size\n",
        "plt.figure(figsize=(16,10))  # I followed \"16 inches wide and 10 inches tall for better readability\"\n",
        "\n",
        "# Scatter plot with styling\n",
        "plt.scatter(df['Confidence in national government'], df['HappinessScore'], # Choose 'Confidence in national government' and 'HappinessScore'\n",
        "            color='magenta',         # Set marker color to magenda\n",
        "            marker='h',           # Use hexagon markers\n",
        "            edgecolors='black',    # Add a black outline to the markers\n",
        "            alpha=0.5,           # Make points slightly transparent (50% opacity)\n",
        "            s=100)                # Set marker size to 100\n",
        "\n",
        "# X and Y axis labels with styling\n",
        "plt.xlabel('Confidence in national government', fontsize=14, fontweight='bold')  # Bold and larger font for readability\n",
        "plt.ylabel('Happiness Score', fontsize=14, fontweight='bold')\n",
        "\n",
        "# Title of the plot\n",
        "plt.title(\"Confidence in national government vs Happiness Score\", fontsize=18, fontweight='bold')  # Larger and bold title\n",
        "\n",
        "# Grid for better readability\n",
        "plt.grid(True, linestyle='--', alpha=0.5)  # Dashed grid lines with slight transparency\n",
        "\n",
        "# Adjust tick label size\n",
        "plt.xticks(fontsize=12) #13 Add custom font sizes for labels\n",
        "plt.yticks(fontsize=12)\n",
        "\n",
        "# Invert x-axis if lower rank means better happiness # I think it's better not to invert\n",
        "# plt.gca().invert_xaxis()\n",
        "\n",
        "# Change y axis range\n",
        "plt.xlim(0, 1.0)\n",
        "plt.ylim(0, 10)\n",
        "\n",
        "# Show the plot\n",
        "plt.show()\n"
      ],
      "metadata": {
        "id": "3Lm94WB_dNRi"
      },
      "execution_count": null,
      "outputs": []
    },
    {
      "cell_type": "markdown",
      "source": [
        "#### A brief interpretation of what the plot shows\n",
        "\n",
        "# Exploring the Relationship Between Confidence in National Government and Happiness Score: A Scatter Plot Analysis\n",
        "\n",
        "Analysis of the scatter plot between 'Confidence in National Government' and 'Happiness Score' using happiness data reveals that there is no clear correlation between the two variables. Although it is commonly believed that higher trust in the government contributes to greater well-being [1][2][3], the data in this analysis does not show a consistent or significant relationship between the confidence in the national government and the happiness score across the sample. This indicates that a deeper analysis, such as by country-specific factors, is needed to better understand the complex relationship between these variables.\n",
        "\n",
        "> [1] Helliwell, J. F., Layard, R., & Sachs, J. (2020). World Happiness Report 2020.\n",
        "\n",
        "> [2] Rothstein, B., & Stolle, D. (2003). Social capital, trust, and government performance: A literature review. Scandinavian Political Studies, 26(3), 191-218.\n",
        "\n",
        "> [3] Delhey, J., & Newton, K. (2005). Predicting cross-national levels of social trust: The influence of institutional performance and historical roots. European Sociological Review, 21(4), 311-327."
      ],
      "metadata": {
        "id": "qcC13OxbtHC4"
      }
    },
    {
      "cell_type": "markdown",
      "metadata": {
        "id": "tq3ok6RDsQa9"
      },
      "source": [
        "--------------------------------"
      ]
    },
    {
      "cell_type": "markdown",
      "metadata": {
        "id": "zne5DRZk2mfd"
      },
      "source": [
        "###  Anscombe's Quartet Dataset\n",
        "\n",
        "This dataset is known as **Anscombe's Quartet**, created by statistician Francis Anscombe to illustrate the importance of visualizing data. Despite having nearly identical statistical properties (e.g., mean, variance, correlation, and linear regression), each dataset tells a very different story when graphed.\n",
        "\n",
        "- **x**: The independent variable, common across three datasets.\n",
        "- **y1, y2, y3**: Three different dependent variables associated with the same `x` values.\n",
        "- **x4, y4**: A special case where most of the `x` values are identical, with one outlier.\n",
        "\n",
        "#### Anscombe's Quartet:"
      ]
    },
    {
      "cell_type": "code",
      "source": [
        "plt.style.use('default')"
      ],
      "metadata": {
        "id": "DNPN2_PuiARY"
      },
      "execution_count": null,
      "outputs": []
    },
    {
      "cell_type": "code",
      "execution_count": null,
      "metadata": {
        "id": "0gqhfmtL2mfd"
      },
      "outputs": [],
      "source": [
        "# Anscombe's Quartet:\n",
        "x = [10, 8, 13, 9, 11, 14, 6, 4, 12, 7, 5]\n",
        "y1 = [8.04, 6.95, 7.58, 8.81, 8.33, 9.96, 7.24, 4.26, 10.84, 4.82, 5.68]\n",
        "y2 = [9.14, 8.14, 8.74, 8.77, 9.26, 8.10, 6.13, 3.10, 9.13, 7.26, 4.74]\n",
        "y3 = [7.46, 6.77, 12.74, 7.11, 7.81, 8.84, 6.08, 5.39, 8.15, 6.42, 5.73]\n",
        "x4 = [8, 8, 8, 8, 8, 8, 8, 19, 8, 8, 8]\n",
        "y4 = [6.58, 5.76, 7.71, 8.84, 8.47, 7.04, 5.25, 12.50, 5.56, 7.91, 6.89]"
      ]
    },
    {
      "cell_type": "code",
      "execution_count": null,
      "metadata": {
        "id": "vbqVL4P22mfe"
      },
      "outputs": [],
      "source": [
        "plt.scatter(x, y1)"
      ]
    },
    {
      "cell_type": "markdown",
      "metadata": {
        "id": "dvWof_-82mfe"
      },
      "source": [
        "Lets also do the linear regression for this dataset, do not worry about the code for now, just focus on the output. and we will be back to this code later."
      ]
    },
    {
      "cell_type": "code",
      "execution_count": null,
      "metadata": {
        "id": "oblOu-xi2mfe"
      },
      "outputs": [],
      "source": [
        "# Calculate the slope (m) and intercept (b) of the line using np.polyfit\n",
        "m, b = np.polyfit(x, y1, 1)\n",
        "\n",
        "# Create the regression line\n",
        "regression_line = m * np.array(x) + b\n",
        "\n",
        "# Plot the data points and regression line\n",
        "plt.scatter(x, y1)\n",
        "plt.plot(x, regression_line,color='blue')\n",
        "plt.xlabel('x')\n",
        "plt.ylabel('y1')\n",
        "\n"
      ]
    },
    {
      "cell_type": "markdown",
      "metadata": {
        "id": "LrAoJcGL2mfe"
      },
      "source": [
        "### Assignment 4: Anscombe's Quartet and Linear Regression\n",
        "\n",
        "Perform the same linear regression process for the following datasets: y2, y3, and y4. Modify the code to calculate and plot the regression lines for each of these datasets. Use distinct colors for each plot and appropriately label the axes (y2, y3, etc.). Discuss any differences you observe when comparing the results across all datasets."
      ]
    },
    {
      "cell_type": "code",
      "execution_count": null,
      "metadata": {
        "id": "CYu75TvR2mff"
      },
      "outputs": [],
      "source": [
        "# For m1, b1\n",
        "# Calculate the slope (m) and intercept (b) of the line using np.polyfit\n",
        "m1, b1 = np.polyfit(x, y1, 1)\n",
        "\n",
        "# Create the regression line\n",
        "regression_line1 = m1 * np.array(x) + b1\n",
        "\n",
        "# Plot the data points and regression line\n",
        "plt.scatter(x, y1, color='blue', label = 'D1')\n",
        "plt.plot(x, regression_line1,color='blue', label = \"Line1\")\n",
        "plt.xlabel('x', fontsize = 16)\n",
        "plt.ylabel('y1', fontsize = 16)\n",
        "plt.grid(True, linestyle='--', alpha=0.5)\n",
        "\n",
        "# Change y axis range\n",
        "plt.xlim(2, 20)\n",
        "plt.ylim(0, 15)\n",
        "\n",
        "# Add title and legend\n",
        "plt.legend()\n",
        "plt.title(\"Anscombe's Quartet with Linear Regression Line: \\n y1 = m1x + b1\", fontsize = 20)\n",
        "\n",
        "# Print the slope and intercept for each regression line\n",
        "text_x = 12\n",
        "text_y = 4\n",
        "results_text = f\"Linear Regression Results:\\n\"\n",
        "results_text += f\"y1: Slope = {m1:.6f}, Intercept = {b1:.6f}\\n\"\n",
        "plt.text(text_x, text_y, results_text, ha='center', va='top', fontsize=12, color='black')\n",
        "\n"
      ]
    },
    {
      "cell_type": "code",
      "source": [
        "# For m2, b2\n",
        "# Calculate the slope (m) and intercept (b) of the line using np.polyfit\n",
        "m2, b2 = np.polyfit(x, y2, 1)\n",
        "\n",
        "# Create the regression line\n",
        "regression_line2 = m2 * np.array(x) + b2\n",
        "\n",
        "# Plot the data points and regression line\n",
        "plt.scatter(x, y2, color='green', label = 'D2')\n",
        "plt.plot(x, regression_line2,color='green', label = 'Line2')\n",
        "plt.xlabel('x', fontsize = 16)\n",
        "plt.ylabel('y2', fontsize = 16)\n",
        "plt.grid(True, linestyle='--', alpha=0.5)\n",
        "\n",
        "# Change y axis range\n",
        "plt.xlim(2, 20)\n",
        "plt.ylim(0, 15)\n",
        "\n",
        "# Add title and legend\n",
        "plt.legend()\n",
        "plt.title(\"Anscombe's Quartet with Linear Regression Line: \\n y2 = m2x + b2\", fontsize = 20)\n",
        "\n",
        "# Print the slope and intercept for each regression line\n",
        "text_x = 12\n",
        "text_y = 4\n",
        "results_text = f\"Linear Regression Results:\\n\"\n",
        "results_text += f\"y1: Slope = {m2:.6f}, Intercept = {b2:.6f}\\n\"\n",
        "plt.text(text_x, text_y, results_text, ha='center', va='top', fontsize=12, color='black')\n"
      ],
      "metadata": {
        "id": "nCwrxWG4q02t"
      },
      "execution_count": null,
      "outputs": []
    },
    {
      "cell_type": "code",
      "source": [
        "# For m3, b3\n",
        "# Calculate the slope (m) and intercept (b) of the line using np.polyfit\n",
        "m3, b3 = np.polyfit(x, y3, 1)\n",
        "\n",
        "# Create the regression line\n",
        "regression_line3 = m3 * np.array(x) + b3\n",
        "\n",
        "# Plot the data points and regression line\n",
        "plt.scatter(x, y3, color='red', label = 'D3')\n",
        "plt.plot(x, regression_line3,color='red', label = 'Line4')\n",
        "plt.xlabel('x', fontsize = 16)\n",
        "plt.ylabel('y3', fontsize = 16)\n",
        "plt.grid(True, linestyle='--', alpha=0.5)\n",
        "\n",
        "# Change y axis range\n",
        "plt.xlim(2, 20)\n",
        "plt.ylim(0, 15)\n",
        "\n",
        "# Add title and legend\n",
        "plt.legend()\n",
        "plt.title(\"Anscombe's Quartet with Linear Regression Line: \\n y3 = m3x + b3\", fontsize = 20)\n",
        "\n",
        "# Print the slope and intercept for each regression line\n",
        "text_x = 12\n",
        "text_y = 4\n",
        "results_text = f\"Linear Regression Results:\\n\"\n",
        "results_text += f\"y1: Slope = {m3:.6f}, Intercept = {b3:.6f}\\n\"\n",
        "plt.text(text_x, text_y, results_text, ha='center', va='top', fontsize=12, color='black')\n",
        "\n"
      ],
      "metadata": {
        "id": "kO-hvxpAq4t2"
      },
      "execution_count": null,
      "outputs": []
    },
    {
      "cell_type": "code",
      "source": [
        "\n",
        "\n",
        "# For m4, b4\n",
        "# Calculate the slope (m) and intercept (b) of the line using np.polyfit\n",
        "m4, b4 = np.polyfit(x4, y4, 1)\n",
        "\n",
        "# Create the regression line\n",
        "regression_line4 = m4 * np.array(x4) + b4\n",
        "\n",
        "# Plot the data points and regression line\n",
        "plt.scatter(x4, y4, color='purple', label = 'D4')\n",
        "plt.plot(x4, regression_line4,color='purple', label = 'Line4')\n",
        "plt.xlabel('x4', fontsize = 16)\n",
        "plt.ylabel('y4', fontsize = 16)\n",
        "plt.grid(True, linestyle='--', alpha=0.5)\n",
        "\n",
        "# Change y axis range\n",
        "plt.xlim(2, 20)\n",
        "plt.ylim(0, 15)\n",
        "\n",
        "# Add title and legend\n",
        "plt.legend()\n",
        "plt.title(\"Anscombe's Quartet with Linear Regression Line: \\n y4 = m4x4 + b4\", fontsize = 20)\n",
        "\n",
        "# Print the slope and intercept for each regression line\n",
        "text_x = 12\n",
        "text_y = 4\n",
        "results_text = f\"Linear Regression Results:\\n\"\n",
        "results_text += f\"y1: Slope = {m4:.6f}, Intercept = {b4:.6f}\\n\"\n",
        "plt.text(text_x, text_y, results_text, ha='center', va='top', fontsize=12, color='black')\n"
      ],
      "metadata": {
        "id": "i7S4mPWHq-QR"
      },
      "execution_count": null,
      "outputs": []
    },
    {
      "cell_type": "code",
      "source": [
        "fig, axes = plt.subplots(2, 2, figsize=(12, 10))\n",
        "\n",
        "fig.suptitle(\"Anscombe's Quartet with Linear Regression Line\", fontsize=16)\n",
        "\n",
        "# For m1, b1\n",
        "m1, b1 = np.polyfit(x, y1, 1)\n",
        "regression_line1 = m1 * np.array(x) + b1\n",
        "plt.subplot(2, 2, 1)\n",
        "plt.scatter(x, y1, color='blue', label = 'D1', s = 20)\n",
        "plt.plot(x, regression_line1,color='blue', label = \"Line1\", linewidth = 1)\n",
        "plt.xlabel('x', fontsize = 10)\n",
        "plt.ylabel('y1', fontsize = 10)\n",
        "plt.grid(True, linestyle='--', alpha=0.5)\n",
        "plt.xlim(2, 20)\n",
        "plt.ylim(0, 15)\n",
        "plt.tick_params(axis='x', labelsize=10)\n",
        "plt.tick_params(axis='y', labelsize=10)\n",
        "plt.legend()\n",
        "plt.title(\"y1 = m1x + b1\", fontsize = 10)\n",
        "text_x = 15\n",
        "text_y = 5\n",
        "results_text = f\"Linear Regression Results:\\n\"\n",
        "results_text += f\"y1: Slope = {m1:.6f}, Intercept = {b1:.6f}\\n\"\n",
        "plt.text(text_x, text_y, results_text, ha='center', va='top', fontsize=6, color='black')\n",
        "\n",
        "# For m2, b2\n",
        "m2, b2 = np.polyfit(x, y2, 1)\n",
        "regression_line2 = m2 * np.array(x) + b2\n",
        "plt.subplot(2, 2, 2)\n",
        "plt.scatter(x, y2, color='green', label = 'D2', s = 20)\n",
        "plt.plot(x, regression_line2,color='green', label = 'Line2', linewidth = 1)\n",
        "plt.xlabel('x', fontsize = 10)\n",
        "plt.ylabel('y2', fontsize = 10)\n",
        "plt.grid(True, linestyle='--', alpha=0.5)\n",
        "plt.xlim(2, 20)\n",
        "plt.ylim(0, 15)\n",
        "plt.tick_params(axis='x', labelsize=10)\n",
        "plt.tick_params(axis='y', labelsize=10)\n",
        "plt.legend()\n",
        "plt.title(\"y2 = m2x + b2\", fontsize = 10)\n",
        "text_x = 15\n",
        "text_y = 5\n",
        "results_text = f\"Linear Regression Results:\\n\"\n",
        "results_text += f\"y1: Slope = {m2:.6f}, Intercept = {b2:.6f}\\n\"\n",
        "plt.text(text_x, text_y, results_text, ha='center', va='top', fontsize=6, color='black')\n",
        "\n",
        "# For m3, b3\n",
        "m3, b3 = np.polyfit(x, y3, 1)\n",
        "regression_line3 = m3 * np.array(x) + b3\n",
        "plt.subplot(2, 2, 3)\n",
        "plt.scatter(x, y3, color='red', label = 'D3', s = 20)\n",
        "plt.plot(x, regression_line3,color='red', label = 'Line3', linewidth = 1)\n",
        "plt.xlabel('x', fontsize = 10)\n",
        "plt.ylabel('y3', fontsize = 10)\n",
        "plt.grid(True, linestyle='--', alpha=0.5)\n",
        "plt.xlim(2, 20)\n",
        "plt.ylim(0, 15)\n",
        "plt.tick_params(axis='x', labelsize=10)\n",
        "plt.tick_params(axis='y', labelsize=10)\n",
        "plt.legend()\n",
        "plt.title(\"y3 = m3x + b3\", fontsize = 10)\n",
        "text_x = 15\n",
        "text_y = 5\n",
        "results_text = f\"Linear Regression Results:\\n\"\n",
        "results_text += f\"y1: Slope = {m3:.6f}, Intercept = {b3:.6f}\\n\"\n",
        "plt.text(text_x, text_y, results_text, ha='center', va='top', fontsize=6, color='black')\n",
        "\n",
        "# For m4, b4\n",
        "m4, b4 = np.polyfit(x4, y4, 1)\n",
        "regression_line4 = m4 * np.array(x4) + b4\n",
        "plt.subplot(2, 2, 4)\n",
        "plt.scatter(x4, y4, color='purple', label = 'D4', s = 20)\n",
        "plt.plot(x4, regression_line4,color='purple', label = 'Line4', linewidth = 1)\n",
        "plt.xlabel('x4', fontsize = 10)\n",
        "plt.ylabel('y4', fontsize = 10)\n",
        "plt.grid(True, linestyle='--', alpha=0.5)\n",
        "plt.xlim(2, 20)\n",
        "plt.ylim(0, 15)\n",
        "plt.tick_params(axis='x', labelsize=10)\n",
        "plt.tick_params(axis='y', labelsize=10)\n",
        "plt.legend()\n",
        "plt.title(\"y4 = m4x4 + b4\", fontsize = 10)\n",
        "text_x = 15\n",
        "text_y = 5\n",
        "results_text = f\"Linear Regression Results:\\n\"\n",
        "results_text += f\"y1: Slope = {m4:.6f}, Intercept = {b4:.6f}\\n\"\n",
        "plt.text(text_x, text_y, results_text, ha='center', va='top', fontsize=6, color='black')\n",
        "\n",
        "plt.subplots_adjust(hspace=0.3, wspace=0.3, top=0.9)"
      ],
      "metadata": {
        "id": "7IKCyPVHt6a_"
      },
      "execution_count": null,
      "outputs": []
    },
    {
      "cell_type": "markdown",
      "source": [
        "y1 and y3: Both of these datasets fit well with a linear model, showing a clear linear relationship between the variables. The regression lines for these datasets provide a good approximation of the data points.\n",
        "\n",
        "y2: Unlike y1 and y3, the data in y2 suggests a more complex relationship. A quadratic model might be more appropriate for this dataset as it captures the curvature in the data more effectively.\n",
        "\n",
        "y4: The dataset for y4 contains significant outliers that skew the linear regression results. These outliers strongly influence the model, leading to misleading conclusions. It might be advisable to exclude these outliers or consider an alternative approach, such as robust regression, to handle the data more effectively.\n",
        "\n",
        "The result of applying the quadratic regression model for y2 and the result of removing the outlier of y4 are the following."
      ],
      "metadata": {
        "id": "UBaL9qrwGKMZ"
      }
    },
    {
      "cell_type": "code",
      "source": [
        "fig, axes = plt.subplots(2, 2, figsize=(12, 10))\n",
        "\n",
        "fig.suptitle(\"Anscombe's Quartet with Linear Regression Line\", fontsize=16)\n",
        "\n",
        "# For m1, b1\n",
        "m1, b1 = np.polyfit(x, y1, 1)\n",
        "regression_line1 = m1 * np.array(x) + b1\n",
        "plt.subplot(2, 2, 1)\n",
        "plt.scatter(x, y1, color='blue', label = 'D1', s = 20)\n",
        "plt.plot(x, regression_line1,color='blue', label = \"Line1\", linewidth = 1)\n",
        "plt.xlabel('x', fontsize = 10)\n",
        "plt.ylabel('y1', fontsize = 10)\n",
        "plt.grid(True, linestyle='--', alpha=0.5)\n",
        "plt.xlim(2, 20)\n",
        "plt.ylim(0, 15)\n",
        "plt.tick_params(axis='x', labelsize=10)\n",
        "plt.tick_params(axis='y', labelsize=10)\n",
        "plt.legend()\n",
        "plt.title(\"y1 = m1x + b1\", fontsize = 10)\n",
        "text_x = 15\n",
        "text_y = 5\n",
        "results_text = f\"Linear Regression Results:\\n\"\n",
        "results_text += f\"y1: Slope = {m1:.6f}, Intercept = {b1:.6f}\\n\"\n",
        "plt.text(text_x, text_y, results_text, ha='center', va='top', fontsize=6, color='black')\n",
        "\n",
        "# For m2, b2\n",
        "x = np.array([10, 8, 13, 9, 11, 14, 6, 4, 12, 7, 5])\n",
        "y2 = np.array([9.14, 8.14, 8.74, 8.77, 9.26, 8.10, 6.13, 3.10, 9.13, 7.26, 4.74])\n",
        "m2, b2, c2 = np.polyfit(x, y2, 2)\n",
        "plt.subplot(2, 2, 2)\n",
        "x_fine = np.linspace(x.min(), x.max(), 100)\n",
        "regression_line2 = m2 * x_fine ** 2 + b2 * x_fine + c2\n",
        "plt.scatter(x, y2, color='green', label = 'D2', s = 20)\n",
        "plt.plot(x_fine, regression_line2,color='green', label = 'Line2', linewidth = 1)\n",
        "plt.xlabel('x', fontsize = 10)\n",
        "plt.ylabel('y2', fontsize = 10)\n",
        "plt.grid(True, linestyle='--', alpha=0.5)\n",
        "plt.xlim(2, 20)\n",
        "plt.ylim(0, 15)\n",
        "plt.tick_params(axis='x', labelsize=10)\n",
        "plt.tick_params(axis='y', labelsize=10)\n",
        "plt.legend()\n",
        "plt.title(\"y2 = m2x² + b2x + c2\", fontsize=10)\n",
        "text_x = 15\n",
        "text_y = 5\n",
        "results_text = f\"Quadratic Regression Results:\\n\"\n",
        "results_text += f\"y2: m2 = {m2:.6f}, b2 = {b2:.6f}, c2 = {c2:.6f}\\n\"\n",
        "plt.text(text_x, text_y, results_text, ha='center', va='top', fontsize=6, color='black')\n",
        "\n",
        "\n",
        "# For m3, b3\n",
        "m3, b3 = np.polyfit(x, y3, 1)\n",
        "regression_line3 = m3 * np.array(x) + b3\n",
        "plt.subplot(2, 2, 3)\n",
        "plt.scatter(x, y3, color='red', label = 'D3', s = 20)\n",
        "plt.plot(x, regression_line3,color='red', label = 'Line3', linewidth = 1)\n",
        "plt.xlabel('x', fontsize = 10)\n",
        "plt.ylabel('y3', fontsize = 10)\n",
        "plt.grid(True, linestyle='--', alpha=0.5)\n",
        "plt.xlim(2, 20)\n",
        "plt.ylim(0, 15)\n",
        "plt.tick_params(axis='x', labelsize=10)\n",
        "plt.tick_params(axis='y', labelsize=10)\n",
        "plt.legend()\n",
        "plt.title(\"y3 = m3x + b3\", fontsize = 10)\n",
        "text_x = 15\n",
        "text_y = 5\n",
        "results_text = f\"Linear Regression Results:\\n\"\n",
        "results_text += f\"y1: Slope = {m3:.6f}, Intercept = {b3:.6f}\\n\"\n",
        "plt.text(text_x, text_y, results_text, ha='center', va='top', fontsize=6, color='black')\n",
        "\n",
        "\n",
        "# For m4, b4\n",
        "x4 = np.array([8, 8, 8, 8, 8, 8, 8, 8, 8, 8, 8])\n",
        "y4 = np.array([6.58, 5.76, 7.71, 8.84, 8.47, 7.04, 5.25, 12.50, 5.56, 7.91, 6.89])\n",
        "m4, b4 = np.polyfit(x4, y4, 1)\n",
        "regression_line4 = m4 * np.array(x4) + b4\n",
        "plt.subplot(2, 2, 4)\n",
        "plt.scatter(x4, y4, color='purple', label = 'D4', s = 20)\n",
        "plt.plot(x4, regression_line4,color='purple', label = 'Line4', linewidth = 1)\n",
        "plt.xlabel('x4', fontsize = 10)\n",
        "plt.ylabel('y4', fontsize = 10)\n",
        "plt.grid(True, linestyle='--', alpha=0.5)\n",
        "plt.xlim(2, 20)\n",
        "plt.ylim(0, 15)\n",
        "plt.tick_params(axis='x', labelsize=10)\n",
        "plt.tick_params(axis='y', labelsize=10)\n",
        "plt.legend()\n",
        "plt.title(\"y4 = m4x4 + b4\", fontsize = 10)\n",
        "text_x = 12\n",
        "text_y = 4\n",
        "results_text = results_text = (\n",
        "    \"When all the values of x4 are the same,\\n\"\n",
        "    \"the calculation of the regression equation becomes meaningless,\\n\"\n",
        "    \"causing the regression line to become infinite.\\n\"\n",
        "    \"Therefore, it cannot be plotted.\"\n",
        ")\n",
        "plt.text(text_x, text_y, results_text, ha='center', va='top', fontsize=6, color='black')\n",
        "\n",
        "plt.subplots_adjust(hspace=0.3, wspace=0.3)\n",
        "\n",
        "plt.show()"
      ],
      "metadata": {
        "id": "Yj1uN7AYx4th"
      },
      "execution_count": null,
      "outputs": []
    },
    {
      "cell_type": "markdown",
      "source": [
        "The following is the reason why I used the four separate graphs instead of the single graph."
      ],
      "metadata": {
        "id": "P4d7vRynzUE6"
      }
    },
    {
      "cell_type": "code",
      "source": [
        "# challenge for \"def\" function\n",
        "# The reason why separate graphs are better\n",
        "\n",
        "def plt_regression(x, y, color, label, title, text_x, text_y):\n",
        "    m, b = np.polyfit(x, y, 1)\n",
        "    regression_line = m * np.array(x) + b\n",
        "    plt.scatter(x, y, color=color, label=label, s=20)\n",
        "    plt.plot(x, regression_line, color=color, label=f\"{label} Line\", linewidth=1)\n",
        "    plt.grid(True, linestyle='--', alpha=0.5)\n",
        "    plt.tick_params(axis='x', labelsize=10)\n",
        "    plt.tick_params(axis='y', labelsize=10)\n",
        "    plt.legend()\n",
        "    results_text = f\"Linear Regression Results:\\n\"\n",
        "    results_text += f\"Slope = {m:.6f}, Intercept = {b:.6f}\\n\"\n",
        "    plt.text(text_x, text_y, results_text, ha='center', va='top', fontsize=6, color=color)\n",
        "\n",
        "plt_regression(x, y1, 'blue', 'y1', 'y1 = m1x + b1', 16, 6)\n",
        "plt_regression(x, y2, 'green', 'y2', 'y2 = m2x + b2', 16, 5)\n",
        "plt_regression(x, y3, 'red', 'y3', 'y3 = m3x + b3', 16, 4)\n",
        "plt_regression(x4, y4, 'purple', 'y4', 'y4 = m4x + b4', 16, 3)\n",
        "\n",
        "plt.title(\"Anscombe's Quartet with Linear Regression Line\", fontsize = 20)\n",
        "plt.xlabel('x', fontsize = 10)\n",
        "plt.ylabel('y', fontsize = 10)\n",
        "plt.xlim(2, 20)\n",
        "plt.ylim(0, 15)\n",
        "\n",
        "plt.show()\n"
      ],
      "metadata": {
        "id": "CDRnaWCGzE2L"
      },
      "execution_count": null,
      "outputs": []
    },
    {
      "cell_type": "code",
      "source": [
        "# challenge for \"def\" function\n",
        "def plt_regression(x, y, plt, color, label, title, text_x, text_y):\n",
        "    m, b = np.polyfit(x, y, 1)\n",
        "    regression_line = m * np.array(x) + b\n",
        "    plt.scatter(x, y, color=color, label=label, s=20)\n",
        "    plt.plot(x, regression_line, color=color, label=f\"{label} Line\", linewidth=1)\n",
        "    plt.set_xlabel('x', fontsize=10)\n",
        "    plt.set_ylabel(f'{label}', fontsize=10)\n",
        "    plt.grid(True, linestyle='--', alpha=0.5)\n",
        "    plt.set_xlim(2, 20)\n",
        "    plt.set_ylim(0, 15)\n",
        "    plt.tick_params(axis='x', labelsize=10)\n",
        "    plt.tick_params(axis='y', labelsize=10)\n",
        "    plt.legend()\n",
        "    plt.set_title(title, fontsize=10)\n",
        "    results_text = f\"Linear Regression Results:\\n\"\n",
        "    results_text += f\"Slope = {m:.6f}, Intercept = {b:.6f}\\n\"\n",
        "    plt.text(text_x, text_y, results_text, ha='center', va='top', fontsize=6, color='black')\n",
        "\n",
        "fig, axes = plt.subplots(2, 2, figsize=(12, 10))\n",
        "fig.suptitle(\"Anscombe's Quartet with Linear Regression Line\", fontsize=16)\n",
        "\n",
        "plt_regression(x, y1, axes[0, 0], 'blue', 'y1', 'y1 = m1x + b1', 15, 5)\n",
        "plt_regression(x, y2, axes[0, 1], 'green', 'y2', 'y2 = m2x + b2', 15, 5)\n",
        "plt_regression(x, y3, axes[1, 0], 'red', 'y3', 'y3 = m3x + b3', 15, 5)\n",
        "plt_regression(x4, y4, axes[1, 1], 'purple', 'y4', 'y4 = m4x + b4', 15, 5)\n",
        "\n",
        "plt.subplots_adjust(hspace=0.3, wspace=0.3, top=0.9)\n",
        "\n",
        "plt.show()\n"
      ],
      "metadata": {
        "id": "fRJCSmbtDDOe"
      },
      "execution_count": null,
      "outputs": []
    }
  ],
  "metadata": {
    "colab": {
      "private_outputs": true,
      "provenance": [],
      "collapsed_sections": [
        "hELqYPsCozHw"
      ],
      "include_colab_link": true
    },
    "kernelspec": {
      "display_name": "Python 3",
      "name": "python3"
    },
    "language_info": {
      "codemirror_mode": {
        "name": "ipython",
        "version": 3
      },
      "file_extension": ".py",
      "mimetype": "text/x-python",
      "name": "python",
      "nbconvert_exporter": "python",
      "pygments_lexer": "ipython3",
      "version": "3.11.9"
    }
  },
  "nbformat": 4,
  "nbformat_minor": 0
}