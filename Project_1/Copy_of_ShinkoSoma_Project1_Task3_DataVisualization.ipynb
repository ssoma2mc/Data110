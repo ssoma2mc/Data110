{
  "nbformat": 4,
  "nbformat_minor": 0,
  "metadata": {
    "colab": {
      "provenance": [],
      "authorship_tag": "ABX9TyPXOxsWbOvPHwKGauzdXjF0",
      "include_colab_link": true
    },
    "kernelspec": {
      "name": "python3",
      "display_name": "Python 3"
    },
    "language_info": {
      "name": "python"
    }
  },
  "cells": [
    {
      "cell_type": "markdown",
      "metadata": {
        "id": "view-in-github",
        "colab_type": "text"
      },
      "source": [
        "<a href=\"https://colab.research.google.com/github/ssoma2mc/Data110/blob/main/Copy_of_ShinkoSoma_Project1_Task3_DataVisualization.ipynb\" target=\"_parent\"><img src=\"https://colab.research.google.com/assets/colab-badge.svg\" alt=\"Open In Colab\"/></a>"
      ]
    },
    {
      "cell_type": "markdown",
      "source": [
        "# Data 110 Data Visualization\n",
        "# Project 1: Task 3 Data Visualization\n",
        "- Create a minimum of three visualizations that highlight your findings. These can include, but are not limited to, scatter plots, line charts, histograms, bar charts, and other that we coverd in class.\n",
        "- Each visualization should be accompanied by a caption explaining the insight or trend it is meant to convey."
      ],
      "metadata": {
        "id": "VNScrcJ4b6DK"
      }
    },
    {
      "cell_type": "code",
      "source": [
        "import numpy as np\n",
        "import pandas as pd\n",
        "import matplotlib.pyplot as plt\n",
        "import seaborn as sns\n",
        "import plotly.express as px\n",
        "from scipy import stats\n",
        "from scipy.optimize import curve_fit"
      ],
      "metadata": {
        "id": "0eLfzDxCV9xi"
      },
      "execution_count": null,
      "outputs": []
    },
    {
      "cell_type": "code",
      "source": [
        "sns.set_style(\"whitegrid\")\n",
        "sns.color_palette(\"viridis\", n_colors=10)"
      ],
      "metadata": {
        "id": "9I7lvv5rG5cC"
      },
      "execution_count": null,
      "outputs": []
    },
    {
      "cell_type": "code",
      "source": [
        "colors = sns.color_palette(\"viridis\", n_colors=10)"
      ],
      "metadata": {
        "id": "-gqGZSrhHfRJ"
      },
      "execution_count": null,
      "outputs": []
    },
    {
      "cell_type": "code",
      "source": [
        "file_path = 'https://raw.githubusercontent.com/ssoma2mc/Data110/main/Project_1/life_exp_kaggle_full.csv'\n",
        "df = pd.read_csv(file_path)"
      ],
      "metadata": {
        "id": "QblbQFUcqpGV"
      },
      "execution_count": null,
      "outputs": []
    },
    {
      "cell_type": "code",
      "source": [
        "df.rename({'Country Name' : 'country',\n",
        "           'Country Code' : 'country_code',\n",
        "           'Region' : 'region',\n",
        "           'IncomeGroup' : 'income',\n",
        "           'Year' : 'year',\n",
        "           'Life Expectancy World Bank' : 'life_expectancy',\n",
        "           'Prevelance of Undernourishment' : 'under_nourishment',\n",
        "           'CO2': 'co2',\n",
        "           'Health Expenditure %' : 'health_expenditure',\n",
        "           'Education Expenditure %' : 'education_expenditure',\n",
        "           'Unemployment' : 'unemployment',\n",
        "           'Corruption' : 'corruption' ,\n",
        "           'Sanitation' : 'sanitation',\n",
        "           'Injuries' : 'injuries',\n",
        "           'Communicable' : 'communicable' ,\n",
        "           'NonCommunicable': 'non_communicable' ,\n",
        "           },axis=1,inplace=True)"
      ],
      "metadata": {
        "id": "OHQt9pkWetq-"
      },
      "execution_count": null,
      "outputs": []
    },
    {
      "cell_type": "markdown",
      "source": [
        "I worked on the task by answering the following questions:\n",
        "\n",
        "- A. What is the current life expectancy?\n",
        "- B. How does life expectancy vary by country and region?\n",
        "- C. What factors influence life expectancy?\n",
        "- D. Can we predict the life expectancy from this data?"
      ],
      "metadata": {
        "id": "_c7-MBPbF4t4"
      }
    },
    {
      "cell_type": "markdown",
      "source": [
        "### A. What is the current Life Expectancy?\n",
        "**Figure A-1. Global Average Life Expectancy (2001-2019)**\n",
        "\n",
        "The global average life expectancy increased from 66.67 years in 2001 to 72.59 years in 2019"
      ],
      "metadata": {
        "id": "ZEfMYD6Nd6H-"
      }
    },
    {
      "cell_type": "code",
      "source": [
        "# A. What is the current life expectancy?\n",
        "#The global average life expectancy increased from 66.67 years in 2001 to 72.59 years in 2019 (Figure A-1)\n",
        "colors = sns.color_palette(\"viridis\", n_colors=10)\n",
        "\n",
        "df_global_avg = df.groupby('year')['life_expectancy'].mean().reset_index()\n",
        "\n",
        "plt.figure(figsize=(10, 6))\n",
        "sns.lineplot(x='year', y='life_expectancy', data=df_global_avg, color=colors[5], lw=5, label='Global Average')\n",
        "plt.title('Figure A-1. Global Average Life Expectancy (2001-2019)', fontsize=16)\n",
        "plt.xlabel('Year', fontsize=12)\n",
        "plt.ylabel('Average Life Expectancy (years)', fontsize=20)\n",
        "plt.xticks(range(1998, 2024, 5))\n",
        "plt.legend(title='Region', bbox_to_anchor=(1.05, 1), loc='upper left', fontsize=18)\n",
        "plt.grid(True, linestyle='--', alpha=0.6)\n",
        "\n",
        "life_expectancy_2001 = df_global_avg[df_global_avg['year'] == 2001]['life_expectancy'].values[0]\n",
        "life_expectancy_2019 = df_global_avg[df_global_avg['year'] == 2019]['life_expectancy'].values[0]\n",
        "\n",
        "plt.text(2005, life_expectancy_2001 + 1, f'{life_expectancy_2001:.2f}', color=colors[0], fontsize=46, ha='right', va='bottom', fontweight='bold')\n",
        "plt.text(2016, life_expectancy_2019 - 1, f'{life_expectancy_2019:.2f}', color=colors[0], fontsize=46, ha='left', va='top', fontweight='bold')\n",
        "\n",
        "plt.show()\n",
        "\n",
        "\n",
        "\n",
        "\n"
      ],
      "metadata": {
        "id": "vbcDk9yEQUi8"
      },
      "execution_count": null,
      "outputs": []
    },
    {
      "cell_type": "markdown",
      "source": [
        "**Figure A-2. Distribution of Life Expectancy in 2019**\n",
        "Life expectancy varies from a minimum of 53.28 years (Japan) to a maximum of 84.36 years (Central African Republic)"
      ],
      "metadata": {
        "id": "iw1xiV3yAxja"
      }
    },
    {
      "cell_type": "code",
      "source": [
        "# Figure A-2: Distribution of Life Expectancy in 2019\n",
        "# Life expectancy varies from a minimum of 53.28 years (Japan) to a maximum of 84.36 years (Central African Republic)\n",
        "stats_2019 = df[df['year'] == 2019]['life_expectancy']\n",
        "\n",
        "plt.hist(stats_2019, bins=20, edgecolor='white', alpha=0.8, color=colors[2])\n",
        "\n",
        "plt.title('Figure A-2. Distribution of Life Expectancy in 2019')\n",
        "plt.xlabel('Life Expectancy')\n",
        "plt.ylabel('Frequency')\n",
        "\n",
        "plt.grid(axis='y', linestyle='-', alpha=0.7)\n",
        "plt.grid(axis='x', linestyle='none')\n",
        "\n",
        "plt.show()\n"
      ],
      "metadata": {
        "id": "ZASIor1TMQiY"
      },
      "execution_count": null,
      "outputs": []
    },
    {
      "cell_type": "code",
      "source": [
        "stats_2019 = df[df['year'] == 2019]['life_expectancy']\n",
        "print(stats_2019.describe())"
      ],
      "metadata": {
        "id": "MC3gv-lOrsic"
      },
      "execution_count": null,
      "outputs": []
    },
    {
      "cell_type": "code",
      "source": [
        "stats_2019 = df[df['year'] == 2019]\n",
        "top_5_countries = stats_2019.sort_values(by='life_expectancy', ascending=False).head(5)\n",
        "bottom_5_countries = stats_2019.sort_values(by='life_expectancy', ascending=True).head(5)\n",
        "\n",
        "print(\"Top 5 countries with highest life expectancy:\")\n",
        "print(top_5_countries[['country', 'life_expectancy']])\n",
        "print(\"\\nBottom 5 countries with lowest life expectancy:\")\n",
        "print(bottom_5_countries[['country', 'life_expectancy']])"
      ],
      "metadata": {
        "id": "UYA2YbNLBwe0"
      },
      "execution_count": null,
      "outputs": []
    },
    {
      "cell_type": "markdown",
      "source": [
        "**Figure A-4. Average Life Expectancy by Region in 2019**\n",
        "\n",
        "There are significant regional differences in life expectancy."
      ],
      "metadata": {
        "id": "EYEICGXcDrFA"
      }
    },
    {
      "cell_type": "code",
      "source": [
        "df_2019 = df[df['year'] == 2019].dropna(subset=['country_code', 'life_expectancy'])\n",
        "\n",
        "fig = px.choropleth(df_2019,\n",
        "                    locations='country_code',\n",
        "                    color='life_expectancy',\n",
        "                    hover_name='country',\n",
        "                    color_continuous_scale='RdYlBu',\n",
        "                    title='Life Expectancy by Country in 2019')\n",
        "\n",
        "fig.update_layout(geo=dict(showframe=False, showcoastlines=False, projection_type='equirectangular'))\n",
        "fig.show()\n"
      ],
      "metadata": {
        "id": "-zHxA6Nj0-no"
      },
      "execution_count": null,
      "outputs": []
    },
    {
      "cell_type": "markdown",
      "source": [
        "**Figure A-4. Average Life Expectancy by Region in 2019**\n",
        "\n",
        "North America has the highest life expectancy at 80.90 years, while Sub-Saharan Africa has the lowest life expectancy at 62.72 years."
      ],
      "metadata": {
        "id": "7emGMWOtrN6e"
      }
    },
    {
      "cell_type": "code",
      "source": [
        "df_grouped = df.groupby('region')['life_expectancy'].mean().reset_index()\n",
        "\n",
        "plt.figure(figsize=(12, 6))\n",
        "ax = sns.barplot(x='life_expectancy', y='region', data=df_grouped, palette=\"viridis\", hue='region', legend=False)\n",
        "\n",
        "for i, row in df_grouped.iterrows():\n",
        "    ax.text(row['life_expectancy'] - 3.5, i, f'{row[\"life_expectancy\"]:.2f}',\n",
        "            color='white', ha='center', va='center', fontsize=16)\n",
        "\n",
        "plt.title('Average Life Expectancy by Region in 2019', fontsize=16)\n",
        "plt.xlabel('Average Life Expectancy (years)', fontsize=12)\n",
        "plt.ylabel('Region', fontsize=12)\n",
        "\n",
        "plt.show()\n",
        "\n",
        "\n"
      ],
      "metadata": {
        "id": "CUE79Lm6fp7M"
      },
      "execution_count": null,
      "outputs": []
    },
    {
      "cell_type": "markdown",
      "source": [
        "**Figure A-5. Average Life Expectancy by Region (2001-2019)**\n",
        "\n",
        "Although there are regional differences, life expectancy shows an upward trend in all regions."
      ],
      "metadata": {
        "id": "Q67qQ4RIEAxi"
      }
    },
    {
      "cell_type": "code",
      "source": [
        "# Figure A-5. Average Life Expectancy by Region (2001-2019)\n",
        "# Although there are regional differences, life expectancy shows an upward trend in all regions.\n",
        "\n",
        "df_region_avg = df.groupby(['year', 'region'])['life_expectancy'].mean().reset_index()\n",
        "palette = sns.color_palette(\"viridis\", n_colors=len(df_region_avg['region'].unique()))\n",
        "\n",
        "plt.figure(figsize=(10, 6))\n",
        "sns.lineplot(x='year', y='life_expectancy', hue='region', data=df_region_avg, lw=2, palette=palette)\n",
        "plt.title('Figure A-5. Average Life Expectancy by Region (2001-2019)', fontsize=20)\n",
        "plt.xlabel('Year', fontsize=12)\n",
        "plt.xticks(range(1998, 2024, 5))\n",
        "plt.legend(title='Region', bbox_to_anchor=(1.05, 1), loc='upper left', fontsize=18)\n",
        "plt.grid(True, linestyle='--', alpha=0.6)\n",
        "\n",
        "for region in df_region_avg['region'].unique():\n",
        "    df_region_2001 = df_region_avg[(df_region_avg['region'] == region) & (df_region_avg['year'] == 2001)]\n",
        "    df_region_2019 = df_region_avg[(df_region_avg['region'] == region) & (df_region_avg['year'] == 2019)]\n",
        "\n",
        "    life_expectancy_2001 = df_region_2001['life_expectancy'].values[0]\n",
        "    life_expectancy_2019 = df_region_2019['life_expectancy'].values[0]\n",
        "\n",
        "    plt.text(2000.5, life_expectancy_2001, f'{life_expectancy_2001:.2f}', color='black', fontsize=12, ha='right', va='center')\n",
        "    plt.text(2019.5, life_expectancy_2019, f'{life_expectancy_2019:.2f}', color='black', fontsize=12, ha='left', va='center')\n",
        "\n",
        "plt.show()\n"
      ],
      "metadata": {
        "id": "RLfLYfx9QfNs"
      },
      "execution_count": null,
      "outputs": []
    },
    {
      "cell_type": "markdown",
      "source": [
        "# 3. Data Visualization\n",
        "## C. What factors influence life expectancy?\n",
        "\n",
        "I conduct the order in the following order.\n",
        "- I. Pair plots to observe the overview.\n",
        "- II. Close Examination the relationship between each predictor variable and life expectancy.\n",
        "-i) categorical variables\n",
        "      a) Income group\n",
        "      b) Region\n",
        "-ii) numerical variables\n",
        "      c) Under Nourishment\n",
        "      (d) CO2)\n",
        "      e) Health Expenditure\n",
        "      f) Education Expenditure\n",
        "      g) Unemployment\n",
        "      h) Corruption\n",
        "      i) Sanitation\n",
        "      j) Injuries\n",
        "      k) Communicable\n",
        "      l) Non-Communicable\n",
        "- iii) d) CO2"
      ],
      "metadata": {
        "id": "ZNVyBqEY8jNf"
      }
    },
    {
      "cell_type": "markdown",
      "source": [
        "**Figure C-1. Pair plots to observe the overview**\n",
        "\n",
        "By using the pair plot, we were able to roughly capture the relationships between our 10 predictor variables (prevalence of undernutrition, CO2 emissions, health expenditure %, education expenditure %, unemployment, corruption, sanitation, injuries, communicable diseases, and non-communicable diseases*), all of which influence life expectancy.\n",
        "\n",
        "*'corrupition' was excluded becasue it contains too many Nan."
      ],
      "metadata": {
        "id": "4G2IzZwzvq6q"
      }
    },
    {
      "cell_type": "code",
      "source": [
        "# Figure C-1. Pair plot for overview\n",
        "# By using the pair plot, we were able to roughly capture the relationships between our 10 predictor variables\n",
        "#(prevalence of undernutrition, CO2 emissions, health expenditure %, education expenditure %, unemployment, corruption, sanitation, injuries, communicable diseases, and non-communicable diseases*), all of which influence life expectancy (Figure C-1).\n",
        "#*'corrupition' was excluded becasue it contains too many Nan.\n",
        "\n",
        "df_cleaned = df.dropna(subset=['country_code', 'region', 'income', 'life_expectancy',\n",
        "                               'under_nourishment', 'co2', 'health_expenditure', 'education_expenditure',\n",
        "                               'unemployment', 'sanitation', 'injuries',\n",
        "                               'communicable', 'non_communicable']).copy()\n",
        "\n",
        "sns.pairplot(df_cleaned[['region','income','life_expectancy', 'under_nourishment', 'co2', 'health_expenditure',\n",
        "                         'education_expenditure', 'unemployment', 'sanitation',\n",
        "                         'injuries', 'communicable', 'non_communicable']])\n",
        "#plt.title('Pairplot of Selected Variables', fontsize=16)\n",
        "plt.show()\n"
      ],
      "metadata": {
        "id": "G_xvztT1GgOj"
      },
      "execution_count": null,
      "outputs": []
    },
    {
      "cell_type": "markdown",
      "source": [
        "**Figure C-2. Pair plot by income group**\n",
        "\n",
        "Additionally, when examining pair plots by each income group, we observed distinct clusters, indicating groupings within the data."
      ],
      "metadata": {
        "id": "OZwxc8LcGHl8"
      }
    },
    {
      "cell_type": "code",
      "source": [
        "# Figure C-2. Pair plot by income group\n",
        "# Additionally, when examining pair plots by each income group, we observed distinct clusters, indicating groupings within the data.\n",
        "sns.pairplot(df_cleaned[['region','income','life_expectancy', 'under_nourishment', 'co2', 'health_expenditure',\n",
        "                         'education_expenditure', 'unemployment', 'sanitation',\n",
        "                         'injuries', 'communicable', 'non_communicable']], hue = \"income\", diag_kind = \"kde\")\n",
        "plt.show()"
      ],
      "metadata": {
        "id": "PcVqfmaWN-7w"
      },
      "execution_count": null,
      "outputs": []
    },
    {
      "cell_type": "markdown",
      "source": [
        "**Figure C-3. Pair plot by income group**\n",
        "\n",
        "Additionally, when examining pair plots by each region, we observed distinct clusters, indicating groupings within the data.\n",
        "\n",
        "In general, region (and race) can serve as predictors, but they are secondary. These factors influence life expectancy due to social determinants such as access to healthcare, socioeconomic status, and education. Therefore, in this analysis, I focused on examining income groups."
      ],
      "metadata": {
        "id": "80LfUNhpGcP1"
      }
    },
    {
      "cell_type": "code",
      "source": [
        "# hue = \"region\"\n",
        "sns.pairplot(df_cleaned[['region','income','life_expectancy', 'under_nourishment', 'co2', 'health_expenditure',\n",
        "                         'education_expenditure', 'unemployment', 'sanitation',\n",
        "                         'injuries', 'communicable', 'non_communicable']], hue = \"region\", diag_kind = \"kde\")\n",
        "\n",
        "plt.show()"
      ],
      "metadata": {
        "id": "g2XuC7XOQc2i"
      },
      "execution_count": null,
      "outputs": []
    },
    {
      "cell_type": "markdown",
      "source": [
        "I conduct the order in the following order.\n",
        "- I. Pair plots to observe the overview.\n",
        "- II. Close Examination the relationship between each predictor variable and life expectancy.\n",
        "-i) categorical variables\n",
        "      a) Income group\n",
        "\n",
        "**Figure C-4. The impact of income group on life expectancy**\n",
        "In the low-income group, life expectancy is 56.56 years. As income increases, life expectancy rises, reaching 78.85 years in the high-income group."
      ],
      "metadata": {
        "id": "9JYIL5a5ngZD"
      }
    },
    {
      "cell_type": "code",
      "source": [
        "# Figure C-4. The impact of income group on life expectancy\n",
        "# In the low-income group, life expectancy is 56.56 years.\n",
        "# As income increases, life expectancy rises, reaching 78.85 years in the high-income group.\n",
        "\n",
        "df_cleaned = df.dropna(subset=['income', 'life_expectancy']).copy()\n",
        "\n",
        "income_order = df_cleaned.groupby('income')['life_expectancy'].median().sort_values().index\n",
        "\n",
        "plt.figure(figsize=(10, 6))\n",
        "\n",
        "sns.boxplot(data=df_cleaned, x='income', y='life_expectancy', order=income_order, palette='viridis', hue='income', legend=False)\n",
        "\n",
        "plt.xlabel('Income Group', labelpad=30)\n",
        "plt.ylabel('Life Expectancy')\n",
        "plt.title('Figure C-4.The impact of income group on life expectancy', fontsize=20)\n",
        "\n",
        "income_labels = ['Low', 'Lower Middle', 'Upper Middle', 'High']\n",
        "plt.xticks(range(len(income_labels)), income_labels)\n",
        "\n",
        "# Calculate statistics to annotate the boxplot\n",
        "for i, income_group in enumerate(income_order):\n",
        "    group_data = df_cleaned[df_cleaned['income'] == income_group]['life_expectancy']\n",
        "\n",
        "    median = np.median(group_data)\n",
        "    q1 = np.percentile(group_data, 25)\n",
        "    q3 = np.percentile(group_data, 75)\n",
        "\n",
        "    #plt.plot([i - 0.2, i + 0.2], [median, median], color='black', lw=2, label='Median' if i == 0 else \"\")\n",
        "    #plt.plot([i - 0.2, i + 0.2], [q1, q1], color= 'black', lw=2, label='Q1' if i == 0 else \"\")\n",
        "    #plt.plot([i - 0.2, i + 0.2], [q3, q3], color= 'black', lw=2, label='Q3' if i == 0 else \"\")\n",
        "    plt.text(i + 0.405, median, f'{median:.2f}', ha='left', va='center', fontsize=10, color='black')\n",
        "    plt.text(i + 0.405, q1, f'{q1:.2f}', ha='left', va='center', fontsize=10, color='black')\n",
        "    plt.text(i + 0.405, q3, f'{q3:.2f}', ha='left', va='center', fontsize=10, color='black')\n",
        "#plt.legend(title=\"Statistics\")\n",
        "plt.tight_layout()\n",
        "plt.show()"
      ],
      "metadata": {
        "id": "IqljyJi-INir"
      },
      "execution_count": null,
      "outputs": []
    },
    {
      "cell_type": "markdown",
      "source": [
        "    b) Region\n",
        "\n",
        "**Figure C-5. The impact of region on life expectancy**\n",
        "\n",
        "There are regional differences in life expectancy. North America has the highest life expectancy at 80.90 years, while Sub-Saharan Africa has the lowest at 62.72 years.\n"
      ],
      "metadata": {
        "id": "xZysOWT_KFth"
      }
    },
    {
      "cell_type": "code",
      "source": [
        "# Figure C-5. The impact of region on life expectancy\n",
        "# There are regional differences in life expectancy.\n",
        "# North America has the highest life expectancy at 80.90 years, while Sub-Saharan Africa has the lowest at 62.72 years.\n",
        "\n",
        "df_cleaned = df.dropna(subset=['region', 'life_expectancy']).copy()\n",
        "\n",
        "region_order = df_cleaned.groupby('region')['life_expectancy'].median().sort_values().index\n",
        "\n",
        "plt.figure(figsize=(9, 8))\n",
        "\n",
        "sns.boxplot(data=df_cleaned, x='region', y='life_expectancy', order=region_order, palette='viridis', hue='region', legend=False)\n",
        "\n",
        "plt.xlabel('Region', labelpad=30)\n",
        "plt.ylabel('Life Expectancy')\n",
        "plt.title('Figure C-5. The Impact of Region on Life Expectancy', fontsize=20)\n",
        "plt.xticks(rotation=50)\n",
        "\n",
        "for i, region in enumerate(region_order):\n",
        "    group_data = df_cleaned[df_cleaned['region'] == region]['life_expectancy']\n",
        "\n",
        "    median = np.median(group_data)\n",
        "    q1 = np.percentile(group_data, 25)\n",
        "    q3 = np.percentile(group_data, 75)\n",
        "\n",
        "    plt.text(i + 0.05, median + 1, f'{median:.2f}', ha='left', va='center', fontsize=10, color='black')  # メディアンは少し上\n",
        "    plt.text(i + 0.05, q1 -2, f'{q1:.2f}', ha='left', va='center', fontsize=10, color='black')      # Q1は少し下\n",
        "    plt.text(i + 0.05, q3 + 2, f'{q3:.2f}', ha='left', va='center', fontsize=10, color='black')      # Q3はさらに少し下\n",
        "\n",
        "plt.tight_layout()\n",
        "plt.show()\n",
        "\n"
      ],
      "metadata": {
        "id": "9JauVoG8KGTB"
      },
      "execution_count": null,
      "outputs": []
    },
    {
      "cell_type": "markdown",
      "source": [
        "- ii) Numerical Variables\n",
        "\n",
        "    c) Under Nourishment\n",
        "    \n",
        "**Figure C-6. The impact of undernutrition on life expectancy**\n",
        "As undernutrition increases, life expectancy decreases for all of the income group."
      ],
      "metadata": {
        "id": "rCLq3zQFykyc"
      }
    },
    {
      "cell_type": "code",
      "source": [
        "# Figure C-6. The impact of undernutrition on life expectancy\n",
        "# As undernutrition increases, life expectancy decreases for all of the income group.\n",
        "\n",
        "sns.scatterplot(data=df_cleaned, x='under_nourishment', y='life_expectancy', hue='income', palette='viridis', alpha=0.6, edgecolor=\"black\")\n",
        "\n",
        "sns.regplot(data=df_cleaned, x=\"under_nourishment\", y=\"life_expectancy\", scatter=False, color=\"gray\", label=\"Regression Line\")\n",
        "slope, intercept, r_value, p_value, std_err = stats.linregress(df_cleaned['under_nourishment'], df_cleaned['life_expectancy'])\n",
        "equation_text = f'Life Expectancy = {slope:.2f} * Undernutrition + {intercept:.2f}\\nR-squared = {r_value**2:.3f}'\n",
        "plt.text(min(df_cleaned['under_nourishment']) + 20, max(df_cleaned['life_expectancy']) - 5, equation_text, fontsize=8, color=\"black\")\n",
        "\n",
        "plt.xlabel('Undernutrition')\n",
        "plt.ylabel(\"Life Expectancy\")\n",
        "plt.title(\"Figure C-6.The impact of undernutrition on life expectancy\")\n",
        "plt.legend(bbox_to_anchor=(1.05, 1), loc='upper left')\n",
        "plt.grid(axis='x')\n",
        "\n",
        "plt.show()\n",
        "\n"
      ],
      "metadata": {
        "id": "te664oRQS1m9"
      },
      "execution_count": null,
      "outputs": []
    },
    {
      "cell_type": "code",
      "source": [
        "income_groups = ['Low income', 'Lower middle income', 'Upper middle income', 'High income']\n",
        "\n",
        "color_map = {\n",
        "    'Low income': colors[0],\n",
        "    'Lower middle income': colors[2],\n",
        "    'Upper middle income': colors[5],\n",
        "    'High income': colors[7]\n",
        "}\n",
        "\n",
        "fig, axes = plt.subplots(1, 4, figsize=(20, 5))\n",
        "\n",
        "for i, income_group in enumerate(income_groups):\n",
        "    ax = axes[i]\n",
        "\n",
        "    data_income_group = df_cleaned[df_cleaned['income'] == income_group]\n",
        "\n",
        "    sns.scatterplot(data=data_income_group, x='under_nourishment', y='life_expectancy',\n",
        "                    color=color_map[income_group], alpha=0.6, edgecolor=\"black\", ax=ax)\n",
        "\n",
        "    sns.regplot(data=data_income_group, x=\"under_nourishment\", y=\"life_expectancy\", scatter=False,\n",
        "                color=\"gray\", ax=ax, label=\"Regression Line\")\n",
        "\n",
        "    slope, intercept, r_value, p_value, std_err = stats.linregress(data_income_group['under_nourishment'], data_income_group['life_expectancy'])\n",
        "    equation_text = f'Life Expectancy = {slope:.2f} * Undernutrition + {intercept:.2f}\\nR-squared = {r_value**2:.3f}'\n",
        "    #ax.text(65, 80, equation_text, fontsize=8, color=\"black\", ha='right', va='top')\n",
        "\n",
        "    ax.set_xlabel('Undernutrition')\n",
        "    ax.set_ylabel(\"Life Expectancy\")\n",
        "    ax.set_title(f\"Income: {income_group}\")\n",
        "    #ax.legend(loc='upper right')\n",
        "    ax.set_xlim(0, 70)  # x-axis from 0 to 70\n",
        "    ax.set_ylim(40, 85)  # y-axis from 40 to 85\n",
        "    ax.grid(axis='x')\n",
        "\n",
        "plt.tight_layout()\n",
        "plt.show()\n"
      ],
      "metadata": {
        "id": "lt099_8q5IGf"
      },
      "execution_count": null,
      "outputs": []
    },
    {
      "cell_type": "markdown",
      "source": [
        "    e) Health Expenditure\n",
        "    \n",
        "**Figure C-7. The Impact of Health Expenditure on Life Expectancy**\n",
        "\n",
        "As health expenditure increases, life expectancy also rises. Specifically, in the high-income group, an increase in health expenditure leads to a significant rise in life expectancy, while in the low-income group, the increase is minimal."
      ],
      "metadata": {
        "id": "sFQ-mkkE7EB_"
      }
    },
    {
      "cell_type": "code",
      "source": [
        "# Figure C-7. The Impact of Health Expenditure on Life Expectancy\n",
        "# As health expenditure increases, life expectancy also rises. Specifically, in the high-income group,\n",
        "# an increase in health expenditure leads to a significant rise in life expectancy, while in the low-income group, the increase is minimal.\n",
        "\n",
        "df_cleaned = df.dropna(subset=['health_expenditure','life_expectancy']).copy()\n",
        "sns.scatterplot(data=df_cleaned, x='health_expenditure', y='life_expectancy', hue='income', palette='viridis', alpha=0.6, edgecolor=\"black\")\n",
        "\n",
        "sns.regplot(data=df_cleaned, x='health_expenditure', y=\"life_expectancy\", scatter=False, color=\"gray\", label=\"Regression Line\")\n",
        "slope, intercept, r_value, p_value, std_err = stats.linregress(df_cleaned['health_expenditure'], df_cleaned['life_expectancy'])\n",
        "equation_text = f'Life Expectancy = {slope:.2f} * Health Expenditure + {intercept:.2f}\\nR-squared = {r_value**2:.3f}'\n",
        "plt.text(min(df_cleaned['health_expenditure']) + 22, max(df_cleaned['life_expectancy']) - 20, equation_text, fontsize=8, color=\"black\")\n",
        "\n",
        "plt.xlabel('Health Expenditure')\n",
        "plt.ylabel(\"Life Expectancy\")\n",
        "plt.title(\"Figure C-7. The Impact of Health Expenditure on Life Expectancy\")\n",
        "plt.legend(bbox_to_anchor=(1.05, 1), loc='upper left')\n",
        "plt.grid(axis='x')\n",
        "\n",
        "plt.show()"
      ],
      "metadata": {
        "id": "Us1we7ngUjog"
      },
      "execution_count": null,
      "outputs": []
    },
    {
      "cell_type": "code",
      "source": [
        "income_groups = ['Low income', 'Lower middle income', 'Upper middle income', 'High income']\n",
        "\n",
        "color_map = {\n",
        "    'Low income': colors[0],\n",
        "    'Lower middle income': colors[2],\n",
        "    'Upper middle income': colors[5],\n",
        "    'High income': colors[7]\n",
        "}\n",
        "\n",
        "fig, axes = plt.subplots(1, 4, figsize=(20, 5))\n",
        "\n",
        "for i, income_group in enumerate(income_groups):\n",
        "    ax = axes[i]\n",
        "    data_income_group = df_cleaned[df_cleaned['income'] == income_group]\n",
        "    sns.scatterplot(data=data_income_group, x='health_expenditure', y='life_expectancy',\n",
        "                    color=color_map[income_group], alpha=0.6, edgecolor=\"black\", ax=ax)\n",
        "    sns.regplot(data=data_income_group, x=\"health_expenditure\", y=\"life_expectancy\", scatter=False,\n",
        "                color=\"gray\", ax=ax, label=\"Regression Line\")\n",
        "    slope, intercept, r_value, p_value, std_err = stats.linregress(data_income_group['health_expenditure'], data_income_group['life_expectancy'])\n",
        "    equation_text = f'Life Expectancy = {slope:.2f} * Health Expenditure + {intercept:.2f}\\nR-squared = {r_value**2:.3f}'\n",
        "    #ax.text(min(data_income_group['health_expenditure']) + 2.8, max(data_income_group['life_expectancy']) - 38,\n",
        "    #        equation_text, fontsize=8, color=\"black\")\n",
        "    ax.set_xlabel('Health Expenditure')\n",
        "    ax.set_ylabel(\"Life Expectancy\")\n",
        "    ax.set_title(f\"Income: {income_group}\")\n",
        "    #ax.legend(loc='upper right')\n",
        "    ax.set_xlim(0, df_cleaned['health_expenditure'].max())\n",
        "    ax.set_ylim(40, 85)\n",
        "    ax.grid(axis='x')\n",
        "\n",
        "plt.tight_layout()\n",
        "plt.show()\n"
      ],
      "metadata": {
        "id": "aPbym_MOGOQ5"
      },
      "execution_count": null,
      "outputs": []
    },
    {
      "cell_type": "markdown",
      "source": [
        "    f) Education Expenditure\n",
        "\n",
        "**Figure C-8. The impact of Education Expenditure on Life Expectancy**\n",
        "\n",
        "As education expenditure increases, life expectancy also rises. Specifically, in the low-income group, an increase in education expenditure leads to a significant rise in life expectancy,\n",
        "while in the high-income group, the increase is minimal.\n"
      ],
      "metadata": {
        "id": "8rEoIw9bO54g"
      }
    },
    {
      "cell_type": "code",
      "source": [
        "# Figure C-8. The impact of Education Expenditure on Life Expectancy\n",
        "#As education expenditure increases, life expectancy also rises. Specifically, in the low-income group,\n",
        "#an increase in education expenditure leads to a significant rise in life expectancy,\n",
        "#while in the high-income group, the increase is minimal.\n",
        "\n",
        "df_cleaned = df.dropna(subset=['education_expenditure','life_expectancy']).copy()\n",
        "sns.scatterplot(data=df_cleaned, x='education_expenditure', y='life_expectancy', hue='income', palette='viridis', alpha=0.6, edgecolor=\"black\")\n",
        "\n",
        "sns.regplot(data=df_cleaned, x='education_expenditure', y=\"life_expectancy\", scatter=False, color=\"gray\", label=\"Regression Line\")\n",
        "slope, intercept, r_value, p_value, std_err = stats.linregress(df_cleaned['education_expenditure'], df_cleaned['life_expectancy'])\n",
        "equation_text = f'Life Expectancy = {slope:.2f} * Education Expenditure + {intercept:.2f}\\nR-squared = {r_value**2:.3f}'\n",
        "plt.text(min(df_cleaned['education_expenditure']) + 15, max(df_cleaned['life_expectancy']) - 20, equation_text, fontsize=8, color=\"black\")\n",
        "\n",
        "plt.xlabel('Education Expenditure')\n",
        "plt.ylabel(\"Life Expectancy\")\n",
        "plt.title(\"Figure C-8. The impact of Education Expenditure on Life Expectancy\")\n",
        "plt.legend(bbox_to_anchor=(1.05, 1), loc='upper left')\n",
        "plt.grid(axis='x')\n",
        "\n",
        "plt.show()"
      ],
      "metadata": {
        "id": "aZpsMIK_eArK"
      },
      "execution_count": null,
      "outputs": []
    },
    {
      "cell_type": "code",
      "source": [
        "income_groups = ['Low income', 'Lower middle income', 'Upper middle income', 'High income']\n",
        "\n",
        "color_map = {\n",
        "    'Low income': colors[0],\n",
        "    'Lower middle income': colors[2],\n",
        "    'Upper middle income': colors[5],\n",
        "    'High income': colors[7]\n",
        "}\n",
        "\n",
        "fig, axes = plt.subplots(1, 4, figsize=(20, 5))\n",
        "\n",
        "for i, income_group in enumerate(income_groups):\n",
        "    ax = axes[i]\n",
        "    data_income_group = df_cleaned[df_cleaned['income'] == income_group]\n",
        "    sns.scatterplot(data=data_income_group, x='education_expenditure', y='life_expectancy',\n",
        "                    color=color_map[income_group], alpha=0.6, edgecolor=\"black\", ax=ax)\n",
        "    sns.regplot(data=data_income_group, x=\"education_expenditure\", y=\"life_expectancy\", scatter=False,\n",
        "                color=\"gray\", ax=ax, label=\"Regression Line\")\n",
        "    slope, intercept, r_value, p_value, std_err = stats.linregress(data_income_group['education_expenditure'], data_income_group['life_expectancy'])\n",
        "    equation_text = f'Life Expectancy = {slope:.2f} * Education Expenditure + {intercept:.2f}\\nR-squared = {r_value**2:.3f}'\n",
        "    #ax.text(min(data_income_group['education_expenditure']) + 25, max(data_income_group['life_expectancy']) - 5,\n",
        "    #        equation_text, fontsize=8, color=\"black\")\n",
        "    ax.set_xlabel('Education Expenditure')\n",
        "    ax.set_ylabel(\"Life Expectancy\")\n",
        "    ax.set_title(f\"Income: {income_group}\")\n",
        "    #ax.legend(loc='upper right')\n",
        "    ax.set_xlim(0, df_cleaned['education_expenditure'].max())  # x-axis from 0 to max education_expenditure\n",
        "    ax.set_ylim(40, 85)  # y-axis from 40 to 85\n",
        "    ax.grid(axis='x')\n",
        "\n",
        "plt.tight_layout()\n",
        "plt.show()\n"
      ],
      "metadata": {
        "id": "bfi8F70pHz8g"
      },
      "execution_count": null,
      "outputs": []
    },
    {
      "cell_type": "markdown",
      "source": [
        "    g) Unemployment\n",
        "\n",
        "**Figure C-9. The impact of Unemployment on Life Expectancy**\n",
        "\n",
        "As unemployment increases, life expectancy decreases among all of the income group."
      ],
      "metadata": {
        "id": "iKqCGPfhPp_c"
      }
    },
    {
      "cell_type": "code",
      "source": [
        "# Figure C-9.  The impact of Unemployment on Life Expectancy\n",
        "# As unemployment increases, life expectancy decreases among all of the income group.\n",
        "\n",
        "df_cleaned = df.dropna(subset=['unemployment','life_expectancy']).copy()\n",
        "sns.scatterplot(data=df_cleaned, x='unemployment', y='life_expectancy', hue='income', palette='viridis', alpha=0.6, edgecolor=\"black\")\n",
        "\n",
        "sns.regplot(data=df_cleaned, x='unemployment', y=\"life_expectancy\", scatter=False, color=\"gray\", label=\"Regression Line\")\n",
        "slope, intercept, r_value, p_value, std_err = stats.linregress(df_cleaned['unemployment'], df_cleaned['life_expectancy'])\n",
        "equation_text = f'Life Expectancy = {slope:.2f} * Unemployment + {intercept:.2f}\\nR-squared = {r_value**2:.3f}'\n",
        "plt.text(min(df_cleaned['unemployment']) + 5, max(df_cleaned['life_expectancy']) - 45, equation_text, fontsize=8, color=\"black\")\n",
        "\n",
        "plt.xlabel('Unemployment')\n",
        "plt.ylabel(\"Life Expectancy\")\n",
        "plt.title(\"Figure C-9. The impact of Unemployment on Life Expectancy\")\n",
        "plt.legend(bbox_to_anchor=(1.05, 1), loc='upper left')\n",
        "plt.grid(axis='x')\n",
        "\n",
        "plt.show()"
      ],
      "metadata": {
        "id": "OdQy2m5MUsMY"
      },
      "execution_count": null,
      "outputs": []
    },
    {
      "cell_type": "code",
      "source": [
        "income_groups = ['Low income', 'Lower middle income', 'Upper middle income', 'High income']\n",
        "\n",
        "color_map = {\n",
        "    'Low income': colors[0],\n",
        "    'Lower middle income': colors[2],\n",
        "    'Upper middle income': colors[5],\n",
        "    'High income': colors[7]\n",
        "}\n",
        "\n",
        "fig, axes = plt.subplots(1, 4, figsize=(20, 5))\n",
        "\n",
        "for i, income_group in enumerate(income_groups):\n",
        "    ax = axes[i]\n",
        "    data_income_group = df_cleaned[df_cleaned['income'] == income_group]\n",
        "    sns.scatterplot(data=data_income_group, x='unemployment', y='life_expectancy',\n",
        "                    color=color_map[income_group], alpha=0.6, edgecolor=\"black\", ax=ax)\n",
        "    sns.regplot(data=data_income_group, x=\"unemployment\", y=\"life_expectancy\", scatter=False,\n",
        "                color=\"gray\", ax=ax, label=\"Regression Line\")\n",
        "\n",
        "    slope, intercept, r_value, p_value, std_err = stats.linregress(data_income_group['unemployment'], data_income_group['life_expectancy'])\n",
        "    equation_text = f'Life Expectancy = {slope:.2f} * Unemployment + {intercept:.2f}\\nR-squared = {r_value**2:.3f}'\n",
        "    ax.text(min(data_income_group['unemployment']) + 10,\n",
        "            max(data_income_group['life_expectancy']) - 25,\n",
        "            equation_text, fontsize=8, color=\"black\")\n",
        "\n",
        "    ax.set_xlabel('Unemployment')\n",
        "    ax.set_ylabel(\"Life Expectancy\")\n",
        "    ax.set_title(f\"Income: {income_group}\")\n",
        "    ax.set_xlim(min(df_cleaned['unemployment']), df_cleaned['unemployment'].max())\n",
        "    ax.set_ylim(40, 85)\n",
        "    ax.grid(axis='x')\n",
        "\n",
        "plt.tight_layout()\n",
        "plt.show()\n",
        "\n"
      ],
      "metadata": {
        "id": "lJCQt2xulx0y"
      },
      "execution_count": null,
      "outputs": []
    },
    {
      "cell_type": "markdown",
      "source": [
        "    h) Corruption\n",
        "\n",
        "**Figure C-10. The impact of Corrupyion on Life Expectancy**\n",
        "\n",
        "When the corruption scale is low (meaning corruption is severe), life expectancy decreases.\n",
        "\n",
        "- 'corruption' is numerical data, but it is a scale. It has an order. I think that it should be treated as a categorical variable.\n",
        "\n",
        "- The World Bank Governance Indicators assess governance and corruption on a scale from -2.5 to +2.5. The Corruption Perceptions Index (CPI) specifically focuses on 'perceptions of corruption' and is evaluated on a scale from 0 to 100. It is unclear whether the Kaggle data is based on the World Bank Governance Indicators or CPI, but if the scale converges from 1 to 5, it is highly likely that this data is an indicator of the level of corruption. It can be interpreted as follows:\n",
        "-- 1: High level of corruption\n",
        "-- 3: Slightly fewer corruption issues  \n",
        "-- 5: Nearly no corruption"
      ],
      "metadata": {
        "id": "DtUq0xIzrzOK"
      }
    },
    {
      "cell_type": "code",
      "source": [
        "# Figure C-10. The impact of Corrupyion on Life Expectancy\n",
        "# When the corruption scale is low (meaning corruption is severe), life expectancy decreases.\n",
        "\n",
        "sns.violinplot(data=df_cleaned, x='corruption', y='life_expectancy', hue='corruption', palette='viridis', legend=False)\n",
        "\n",
        "plt.xlabel('Corruption')\n",
        "plt.ylabel(\"Life Expectancy\")\n",
        "plt.title(\"Figure C-10. The impact of Corruption on Life Expectancy\")\n",
        "\n",
        "plt.show()\n"
      ],
      "metadata": {
        "id": "04zz2MHwnECz"
      },
      "execution_count": null,
      "outputs": []
    },
    {
      "cell_type": "markdown",
      "source": [
        "**Figure C-11. The impact of Sanitation on Life Expectancy**\n",
        "\n",
        "Overall, as sanitation improves, life expectancy increases. This is particularly noticeable in the lower middle-income group, while it remains stable in the upper middle-income group, and life expectancy decreases in the low-income group ."
      ],
      "metadata": {
        "id": "snbGIiimUNXo"
      }
    },
    {
      "cell_type": "code",
      "source": [
        "#Figure C-11. The impact of Sanitation on Life Expectancy\n",
        "# Overall, as sanitation improves, life expectancy increases.\n",
        "# This is particularly noticeable in the lower middle-income group,\n",
        "# while it remains stable in the upper middle-income group, and life expectancy decreases in the low-income group .\n",
        "\n",
        "df_cleaned = df.dropna(subset=['sanitation','life_expectancy']).copy()\n",
        "sns.scatterplot(data=df_cleaned, x='sanitation', y='life_expectancy', hue='income', palette='viridis', alpha=0.6, edgecolor=\"black\")\n",
        "\n",
        "sns.regplot(data=df_cleaned, x='sanitation', y=\"life_expectancy\", scatter=False, color=\"gray\", label=\"Regression Line\")\n",
        "slope, intercept, r_value, p_value, std_err = stats.linregress(df_cleaned['sanitation'], df_cleaned['life_expectancy'])\n",
        "equation_text = f'Life Expectancy = {slope:.2f} * Sanitation + {intercept:.2f}\\nR-squared = {r_value**2:.3f}'\n",
        "plt.text(min(df_cleaned['sanitation']) + 40, max(df_cleaned['life_expectancy']) - 40, equation_text, fontsize=8, color=\"black\")\n",
        "\n",
        "plt.xlabel('Sanitation')\n",
        "plt.ylabel(\"Life Expectancy\")\n",
        "plt.title(\"Figure C-11. The impact of Sanitation on Life Expectancy\")\n",
        "plt.legend(bbox_to_anchor=(1.05, 1), loc='upper left')\n",
        "plt.grid(axis='x')\n",
        "\n",
        "plt.show()"
      ],
      "metadata": {
        "id": "8dcJD4xsUzYz"
      },
      "execution_count": null,
      "outputs": []
    },
    {
      "cell_type": "code",
      "source": [
        "income_groups = ['Low income', 'Lower middle income', 'Upper middle income', 'High income']\n",
        "color_map = {\n",
        "    'Low income': colors[0],\n",
        "    'Lower middle income': colors[2],\n",
        "    'Upper middle income': colors[5],\n",
        "    'High income': colors[7]\n",
        "}\n",
        "\n",
        "fig, axes = plt.subplots(1, 4, figsize=(20, 5))\n",
        "\n",
        "for i, income_group in enumerate(income_groups):\n",
        "    ax = axes[i]\n",
        "    data_income_group = df_cleaned[df_cleaned['income'] == income_group]\n",
        "    sns.scatterplot(data=data_income_group, x='sanitation', y='life_expectancy',\n",
        "                    color=color_map[income_group], alpha=0.6, edgecolor=\"black\", ax=ax)\n",
        "    sns.regplot(data=data_income_group, x=\"sanitation\", y=\"life_expectancy\", scatter=False,\n",
        "                color=\"gray\", ax=ax, label=\"Regression Line\")\n",
        "\n",
        "    slope, intercept, r_value, p_value, std_err = stats.linregress(data_income_group['sanitation'], data_income_group['life_expectancy'])\n",
        "    equation_text = f'Life Expectancy = {slope:.2f} * Sanitation + {intercept:.2f}\\nR-squared = {r_value**2:.3f}'\n",
        "    ax.text(min(data_income_group['sanitation']) + 10,\n",
        "            max(data_income_group['life_expectancy']) - 25,\n",
        "            equation_text, fontsize=8, color=\"black\")\n",
        "\n",
        "    ax.set_xlabel('Sanitation')\n",
        "    ax.set_ylabel(\"Life Expectancy\")\n",
        "    ax.set_title(f\"Income: {income_group}\")\n",
        "    ax.set_xlim(min(df_cleaned['sanitation']), df_cleaned['sanitation'].max())\n",
        "    ax.set_ylim(40, 85)\n",
        "    ax.grid(axis='x')\n",
        "\n",
        "plt.tight_layout()\n",
        "plt.show()\n",
        "\n",
        "\n",
        "\n"
      ],
      "metadata": {
        "id": "t0Tg9oTFs54K"
      },
      "execution_count": null,
      "outputs": []
    },
    {
      "cell_type": "markdown",
      "source": [
        "**Figure C-12. The impact of Injuries on Life Expectancy**\n",
        "\n",
        "Excluding countries that are believed to be in war zones, where injuries are extremely high, an increase in injuries leads to a slight rise in life expectancy."
      ],
      "metadata": {
        "id": "X8dvBq7KVDbA"
      }
    },
    {
      "cell_type": "code",
      "source": [
        "# Figure C-12. The impact of Injuries on Life Expectancy\n",
        "# Excluding countries that are believed to be in war zones, where injuries are extremely high,\n",
        "# an increase in injuries leads to a slight rise in life expectancy.\n",
        "\n",
        "df_cleaned = df.dropna(subset=['injuries','life_expectancy']).copy()\n",
        "sns.scatterplot(data=df_cleaned, x='injuries', y='life_expectancy', hue='income', palette='viridis', alpha=0.6, edgecolor=\"black\")\n",
        "\n",
        "sns.regplot(data=df_cleaned, x='injuries', y=\"life_expectancy\", scatter=False, color=\"gray\", label=\"Regression Line\")\n",
        "slope, intercept, r_value, p_value, std_err = stats.linregress(df_cleaned['sanitation'], df_cleaned['life_expectancy'])\n",
        "equation_text = f'Life Expectancy = {slope:.2f} * Injuries + {intercept:.2f}\\nR-squared = {r_value**2:.3f}'\n",
        "plt.text(min(df_cleaned['injuries']) +20000000, max(df_cleaned['life_expectancy']) - 40, equation_text, fontsize=8, color=\"black\")\n",
        "\n",
        "plt.xlabel('Injuries')\n",
        "plt.ylabel(\"Life Expectancy\")\n",
        "plt.title(\"Figure C-12. The impact of Injuries on Life Expectancy\")\n",
        "plt.legend(bbox_to_anchor=(1.05, 1), loc='upper left')\n",
        "plt.grid(axis='x')\n",
        "\n",
        "plt.show()"
      ],
      "metadata": {
        "id": "xb3hDJOsU2b2"
      },
      "execution_count": null,
      "outputs": []
    },
    {
      "cell_type": "code",
      "source": [
        "# Exclude contries injuries are extremely high\n",
        "\n",
        "df_filtered = df_cleaned[(df_cleaned['injuries'] < 10000000) ].copy()\n",
        "\n",
        "sns.scatterplot(data=df_filtered, x='injuries', y='life_expectancy', hue='income', palette='viridis', alpha=0.6, edgecolor=\"black\")\n",
        "\n",
        "sns.regplot(data=df_filtered, x='injuries', y=\"life_expectancy\", scatter=False, color=\"gray\", label=\"Regression Line\")\n",
        "slope, intercept, r_value, p_value, std_err = stats.linregress(df_filtered['sanitation'], df_filtered['life_expectancy'])\n",
        "equation_text = f'Life Expectancy = {slope:.2f} * Injuries + {intercept:.2f}\\nR-squared = {r_value**2:.3f}'\n",
        "plt.text(min(df_filtered['injuries']) +20000000, max(df_filtered['life_expectancy']) - 40, equation_text, fontsize=8, color=\"black\")\n",
        "\n",
        "plt.xlabel('Injuries')\n",
        "plt.ylabel(\"Life Expectancy\")\n",
        "plt.title(\"The impact of Injuries on life expectancy\")\n",
        "plt.legend(bbox_to_anchor=(1.05, 1), loc='upper left')\n",
        "plt.grid(axis='x')\n",
        "\n",
        "plt.show()"
      ],
      "metadata": {
        "id": "wdrW4dTixSCR"
      },
      "execution_count": null,
      "outputs": []
    },
    {
      "cell_type": "code",
      "source": [
        "income_groups = ['Low income', 'Lower middle income', 'Upper middle income', 'High income']\n",
        "color_map = {\n",
        "    'Low income': colors[0],\n",
        "    'Lower middle income': colors[2],\n",
        "    'Upper middle income': colors[5],\n",
        "    'High income': colors[7]\n",
        "}\n",
        "\n",
        "fig, axes = plt.subplots(1, 4, figsize=(20, 5))\n",
        "\n",
        "for i, income_group in enumerate(income_groups):\n",
        "    ax = axes[i]\n",
        "    data_income_group = df_filtered[df_filtered['income'] == income_group]\n",
        "    sns.scatterplot(data=data_income_group, x='injuries', y='life_expectancy',\n",
        "                    color=color_map[income_group], alpha=0.6, edgecolor=\"black\", ax=ax)\n",
        "    sns.regplot(data=data_income_group, x=\"injuries\", y=\"life_expectancy\", scatter=False,\n",
        "                color=\"gray\", ax=ax, label=\"Regression Line\")\n",
        "\n",
        "    slope, intercept, r_value, p_value, std_err = stats.linregress(data_income_group['injuries'], data_income_group['life_expectancy'])\n",
        "    equation_text = f'Life Expectancy = {slope:.2f} * Injuries + {intercept:.2f}\\nR-squared = {r_value**2:.3f}'\n",
        "    #ax.text(min(data_income_group['injuries']) + 20000000,\n",
        "    #        max(data_income_group['life_expectancy']) - 40,\n",
        "    #        equation_text, fontsize=8, color=\"black\")\n",
        "\n",
        "    ax.set_xlabel('Injuries')\n",
        "    ax.set_ylabel(\"Life Expectancy\")\n",
        "    ax.set_title(f\"Income: {income_group}\")\n",
        "    ax.set_xlim(min(df_filtered['injuries']), df_filtered['injuries'].max())\n",
        "    ax.set_ylim(40, 85)\n",
        "    ax.grid(axis='x')\n",
        "\n",
        "plt.tight_layout()\n",
        "plt.show()\n"
      ],
      "metadata": {
        "id": "YyyeDlTTyjAL"
      },
      "execution_count": null,
      "outputs": []
    },
    {
      "cell_type": "markdown",
      "source": [
        "**Figure C-13. Communicable Diseases**\n",
        "\n",
        "As communicable diseases increase, life expectancy decreases among all of the income groups."
      ],
      "metadata": {
        "id": "SeyQbx91WHAB"
      }
    },
    {
      "cell_type": "code",
      "source": [
        "# Figure C-13. Communicable Diseases\n",
        "# As communicable diseases increase, life expectancy decreases among all of the income groups.\n",
        "\n",
        "df_cleaned = df.dropna(subset=['communicable','life_expectancy']).copy()\n",
        "sns.scatterplot(data=df_cleaned, x='communicable', y='life_expectancy', hue='income', palette='viridis', alpha=0.6, edgecolor=\"black\")\n",
        "\n",
        "sns.regplot(data=df_cleaned, x='communicable', y=\"life_expectancy\", scatter=False, color=\"gray\", label=\"Regression Line\")\n",
        "slope, intercept, r_value, p_value, std_err = stats.linregress(df_cleaned['sanitation'], df_cleaned['life_expectancy'])\n",
        "equation_text = f'Life Expectancy = {slope:.2f} * Communicable Diseases + {intercept:.2f}\\nR-squared = {r_value**2:.3f}'\n",
        "plt.text(min(df_cleaned['communicable']) +20000000, max(df_cleaned['life_expectancy']) - 50, equation_text, fontsize=8, color=\"black\")\n",
        "\n",
        "plt.xlabel('Communicable Diseases')\n",
        "plt.ylabel(\"Life Expectancy\")\n",
        "plt.title(\"Figure C-13.The impact of Communicable Diseases on life expectancy\")\n",
        "plt.legend(bbox_to_anchor=(1.05, 1), loc='upper left')\n",
        "plt.grid(axis='x')\n",
        "\n",
        "plt.show()"
      ],
      "metadata": {
        "id": "jQgyL3dDU5Yp"
      },
      "execution_count": null,
      "outputs": []
    },
    {
      "cell_type": "code",
      "source": [
        "# Exclude 'communucable' is expremely high countries\n",
        "\n",
        "df_filtered = df_cleaned[(df_cleaned['communicable'] < 100000000) ].copy()\n",
        "\n",
        "sns.scatterplot(data=df_filtered, x='communicable', y='life_expectancy', hue='income', palette='viridis', alpha=0.6, edgecolor=\"black\")\n",
        "\n",
        "sns.regplot(data=df_filtered, x='communicable', y=\"life_expectancy\", scatter=False, color=\"gray\", label=\"Regression Line\")\n",
        "slope, intercept, r_value, p_value, std_err = stats.linregress(df_filtered['sanitation'], df_filtered['life_expectancy'])\n",
        "equation_text = f'Life Expectancy = {slope:.2f} * Communicable Diseases + {intercept:.2f}\\nR-squared = {r_value**2:.3f}'\n",
        "plt.text(min(df_filtered['communicable']) +20000000, max(df_filtered['life_expectancy']) - 55, equation_text, fontsize=8, color=\"black\")\n",
        "\n",
        "plt.xlabel('Communicable Diseases')\n",
        "plt.ylabel(\"Life Expectancy\")\n",
        "plt.title(\"The impact of Communicable on life expectancy\")\n",
        "plt.legend(bbox_to_anchor=(1.05, 1), loc='upper left')\n",
        "plt.grid(axis='x')\n",
        "\n",
        "plt.show()"
      ],
      "metadata": {
        "id": "jt_OEFj3z7NF"
      },
      "execution_count": null,
      "outputs": []
    },
    {
      "cell_type": "code",
      "source": [
        "income_groups = ['Low income', 'Lower middle income', 'Upper middle income', 'High income']\n",
        "color_map = {\n",
        "    'Low income': colors[0],\n",
        "    'Lower middle income': colors[2],\n",
        "    'Upper middle income': colors[5],\n",
        "    'High income': colors[7]\n",
        "}\n",
        "\n",
        "fig, axes = plt.subplots(1, 4, figsize=(20, 5))\n",
        "\n",
        "for i, income_group in enumerate(income_groups):\n",
        "    ax = axes[i]\n",
        "    data_income_group = df_filtered[df_filtered['income'] == income_group]\n",
        "    sns.scatterplot(data=data_income_group, x='communicable', y='life_expectancy',\n",
        "                    color=color_map[income_group], alpha=0.6, edgecolor=\"black\", ax=ax)\n",
        "    sns.regplot(data=data_income_group, x=\"communicable\", y=\"life_expectancy\", scatter=False,\n",
        "                color=\"gray\", ax=ax, label=\"Regression Line\")\n",
        "\n",
        "    slope, intercept, r_value, p_value, std_err = stats.linregress(data_income_group['communicable'], data_income_group['life_expectancy'])\n",
        "    equation_text = f'Life Expectancy = {slope:.2f} * Communicable Diseases + {intercept:.2f}\\nR-squared = {r_value**2:.3f}'\n",
        "    #ax.text(min(data_income_group['communicable']) + 20000000,\n",
        "    #        max(data_income_group['life_expectancy']) - 25,\n",
        "    #        equation_text, fontsize=8, color=\"black\")\n",
        "\n",
        "    ax.set_xlabel('Communicable Diseases')\n",
        "    ax.set_ylabel(\"Life Expectancy\")\n",
        "    ax.set_title(f\"Income: {income_group}\")\n",
        "    ax.set_xlim(min(df_filtered['communicable']), df_filtered['communicable'].max())\n",
        "    ax.set_ylim(40, 85)\n",
        "    ax.grid(axis='x')\n",
        "\n",
        "plt.tight_layout()\n",
        "plt.show()\n"
      ],
      "metadata": {
        "id": "9vpgkZda04b8"
      },
      "execution_count": null,
      "outputs": []
    },
    {
      "cell_type": "markdown",
      "source": [
        "**Figure C-14. Figure C-14. The impact of Noncommunicable Diseases on Life Expectancy**:\n",
        "\n",
        "As non-communicable diseases increase, life expectancy decreases among all of the income group."
      ],
      "metadata": {
        "id": "u2o6x0cgXNde"
      }
    },
    {
      "cell_type": "code",
      "source": [
        "# Figure C-14. Figure C-14. The impact of Noncommunicable Diseases on Life Expectancy\n",
        "# As non-communicable diseases increase, life expectancy decreases among all of the income group.\n",
        "\n",
        "df_cleaned = df.dropna(subset=['non_communicable','life_expectancy']).copy()\n",
        "sns.scatterplot(data=df_cleaned, x='non_communicable', y='life_expectancy', hue='income', palette='viridis', alpha=0.6, edgecolor=\"black\")\n",
        "\n",
        "sns.regplot(data=df_cleaned, x='non_communicable', y=\"life_expectancy\", scatter=False, color=\"gray\", label=\"Regression Line\")\n",
        "slope, intercept, r_value, p_value, std_err = stats.linregress(df_cleaned['sanitation'], df_cleaned['life_expectancy'])\n",
        "equation_text = f'Life Expectancy = {slope:.2f} * Noncommunicable Diseases + {intercept:.2f}\\nR-squared = {r_value**2:.3f}'\n",
        "plt.text(min(df_cleaned['non_communicable']) +50000000, max(df_cleaned['life_expectancy']) - 35, equation_text, fontsize=8, color=\"black\")\n",
        "\n",
        "plt.xlabel('Noncommunicable Diseases')\n",
        "plt.ylabel(\"Life Expectancy\")\n",
        "plt.title(\"Figure C-14. The impact of Noncommunicable Diseases on Life Expectancy\")\n",
        "plt.legend(bbox_to_anchor=(1.05, 1), loc='upper left')\n",
        "plt.grid(axis='x')\n",
        "\n",
        "plt.show()"
      ],
      "metadata": {
        "id": "A5rPah04U70D"
      },
      "execution_count": null,
      "outputs": []
    },
    {
      "cell_type": "code",
      "source": [
        "# Exclude contries 'non_communucable'is extremery high\n",
        "\n",
        "df_filtered = df_cleaned[(df_cleaned['non_communicable'] < 100000000) ].copy()\n",
        "\n",
        "sns.scatterplot(data=df_filtered, x='non_communicable', y='life_expectancy', hue='income', palette='viridis', alpha=0.6, edgecolor=\"black\")\n",
        "\n",
        "sns.regplot(data=df_filtered, x='non_communicable', y=\"life_expectancy\", scatter=False, color=\"gray\", label=\"Regression Line\")\n",
        "slope, intercept, r_value, p_value, std_err = stats.linregress(df_filtered['sanitation'], df_filtered['life_expectancy'])\n",
        "equation_text = f'Life Expectancy = {slope:.2f} * Noncommunicable Diseases + {intercept:.2f}\\nR-squared = {r_value**2:.3f}'\n",
        "plt.text(min(df_filtered['non_communicable']) +22000000, max(df_filtered['life_expectancy']) - 27, equation_text, fontsize=8, color=\"black\")\n",
        "\n",
        "plt.xlabel('Noncommunicable Diseases')\n",
        "plt.ylabel(\"Life Expectancy\")\n",
        "plt.title(\"The impact of Noncommunicable on life expectancy\")\n",
        "plt.legend(bbox_to_anchor=(1.05, 1), loc='upper left')\n",
        "plt.grid(axis='x')\n",
        "\n",
        "plt.show()"
      ],
      "metadata": {
        "id": "LY9k-mMY1ZlR"
      },
      "execution_count": null,
      "outputs": []
    },
    {
      "cell_type": "code",
      "source": [
        "income_groups = ['Low income', 'Lower middle income', 'Upper middle income', 'High income']\n",
        "color_map = {\n",
        "    'Low income': colors[0],\n",
        "    'Lower middle income': colors[2],\n",
        "    'Upper middle income': colors[5],\n",
        "    'High income': colors[7]\n",
        "}\n",
        "\n",
        "fig, axes = plt.subplots(1, 4, figsize=(20, 5))\n",
        "\n",
        "for i, income_group in enumerate(income_groups):\n",
        "    ax = axes[i]\n",
        "    data_income_group = df_filtered[df_filtered['income'] == income_group]\n",
        "    sns.scatterplot(data=data_income_group, x='non_communicable', y='life_expectancy',\n",
        "                    color=color_map[income_group], alpha=0.6, edgecolor=\"black\", ax=ax)\n",
        "    sns.regplot(data=data_income_group, x=\"non_communicable\", y=\"life_expectancy\", scatter=False,\n",
        "                color=\"gray\", ax=ax, label=\"Regression Line\")\n",
        "\n",
        "    slope, intercept, r_value, p_value, std_err = stats.linregress(data_income_group['non_communicable'], data_income_group['life_expectancy'])\n",
        "    equation_text = f'Life Expectancy = {slope:.2f} * Noncommunicable Diseases + {intercept:.2f}\\nR-squared = {r_value**2:.3f}'\n",
        "    ax.text(min(data_income_group['non_communicable']) + 1100000,\n",
        "            max(data_income_group['life_expectancy']) - 27,\n",
        "            equation_text, fontsize=8, color=\"black\")\n",
        "\n",
        "    ax.set_xlabel('Noncommunicable Diseases')\n",
        "    ax.set_ylabel(\"Life Expectancy\")\n",
        "    ax.set_title(f\"Income: {income_group}\")\n",
        "    ax.set_xlim(min(df_filtered['non_communicable']), df_filtered['non_communicable'].max())\n",
        "    ax.set_ylim(40, 85)\n",
        "    ax.grid(axis='x')\n",
        "\n",
        "plt.tight_layout()\n",
        "plt.show()\n",
        "\n"
      ],
      "metadata": {
        "id": "7KOy-E631h0m"
      },
      "execution_count": null,
      "outputs": []
    },
    {
      "cell_type": "markdown",
      "source": [
        "d) CO2\n",
        "Recently, the impact of CO2 on life expectancy has been attracting attention. While the involvement of respiratory diseases has been known for some time, it is only recently that CO2(CO2 obserbation value) has been reported as the leading risk factor for coronary diseases, surpassing tobacco and hypertension. In this study, we focused on CO2 and conducted an analysis.\n",
        "\n",
        "- CO2 Emissions: This refers to the amount of carbon dioxide (CO2) released into the atmosphere, often measured in terms of tons per year. These are typically related to industrial activities, energy consumption, transportation, and other human activities.\n",
        "\n",
        "- CO2 Observed Values: This refers to the actual measurements or recorded data of CO2 levels in the atmosphere, typically in terms of concentration (e.g., parts per million, ppm), which represents the amount of CO2 present in the atmosphere at a given time."
      ],
      "metadata": {
        "id": "GvkIw1Kdjhb3"
      }
    },
    {
      "cell_type": "markdown",
      "source": [
        "**C-13a. The impact of CO2 on life expectancy (all)**\n",
        "\n",
        "I examine the impact of CO2 emissions on life expectancy. When visualizing the effect of CO2 on life expectancy using a scatter plot, the data is left-skewed, which complicates the interpretation. There are a few extreme outliers on the right side that distort the overall shape of the graph"
      ],
      "metadata": {
        "id": "bIlabk2naO5Z"
      }
    },
    {
      "cell_type": "code",
      "source": [
        "# C-13a. The impact of CO2 on life expectancy (all)\n",
        "# I examine the impact of CO2 emissions on life expectancy.\n",
        "# When visualizing the effect of CO2 on life expectancy using a scatter plot,\n",
        "# the data is left-skewed, which complicates the interpretation.\n",
        "# There are a few extreme outliers on the right side that distort the overall shape of the graph\n",
        "\n",
        "df_cleaned = df.dropna(subset=['co2','life_expectancy']).copy()\n",
        "sns.scatterplot(data=df_cleaned, x='co2', y='life_expectancy', hue='income', palette='viridis', alpha=0.6, edgecolor=\"black\")\n",
        "\n",
        "sns.regplot(data=df_cleaned, x='co2', y=\"life_expectancy\", scatter=False, color=\"gray\", label=\"Regression Line\")\n",
        "slope, intercept, r_value, p_value, std_err = stats.linregress(df_cleaned['co2'], df_cleaned['life_expectancy'])\n",
        "equation_text = f'Life Expectancy = {slope:.2f} * CO2 + {intercept:.2f}\\nR-squared = {r_value**2:.3f}'\n",
        "plt.text(min(df_cleaned['co2']) + 2000000 , max(df_cleaned['life_expectancy']) - 30, equation_text, fontsize=8, color=\"black\")\n",
        "\n",
        "plt.xlabel('CO2')\n",
        "plt.ylabel(\"Life Expectancy\")\n",
        "plt.title(\"C-13a. The impact of CO2 on life expectancy (all)\")\n",
        "plt.legend(bbox_to_anchor=(1.05, 1), loc='upper left')\n",
        "plt.grid(axis='x')\n",
        "\n",
        "plt.show()"
      ],
      "metadata": {
        "id": "lS4FHX2j2I5n"
      },
      "execution_count": null,
      "outputs": []
    },
    {
      "cell_type": "code",
      "source": [
        "#by income groups\n",
        "income_groups = ['Low income', 'Lower middle income', 'Upper middle income', 'High income']\n",
        "\n",
        "fig, axes = plt.subplots(1, 4, figsize=(20, 5))\n",
        "\n",
        "color_map = {\n",
        "    'Low income': colors[0],\n",
        "    'Lower middle income': colors[2],\n",
        "    'Upper middle income': colors[5],\n",
        "    'High income': colors[7]\n",
        "}\n",
        "\n",
        "# Loop through income groups and plot each one\n",
        "for i, income_group in enumerate(income_groups):\n",
        "    ax = axes[i]  # Select subplot for each income group\n",
        "\n",
        "    # Filter data for each income group\n",
        "    data_income_group = df_cleaned[df_cleaned['income'] == income_group]\n",
        "\n",
        "    # Scatterplot with manually set colors\n",
        "    sns.scatterplot(data=data_income_group, x='co2', y='life_expectancy',\n",
        "                    color=color_map[income_group], alpha=0.6, edgecolor=\"black\", ax=ax)\n",
        "\n",
        "    # Regression line\n",
        "    sns.regplot(data=data_income_group, x=\"co2\", y=\"life_expectancy\", scatter=False,\n",
        "                color=\"gray\", ax=ax, label=\"Regression Line\")\n",
        "\n",
        "    # Linear regression equation\n",
        "    slope, intercept, r_value, p_value, std_err = stats.linregress(data_income_group['co2'], data_income_group['life_expectancy'])\n",
        "    equation_text = f'Life Expectancy = {slope:.2f} * CO2 + {intercept:.2f}\\nR-squared = {r_value**2:.3f}'\n",
        "\n",
        "    # Positioning the text in the upper-right corner under the legend\n",
        "    #ax.text(10000, 45, equation_text, fontsize=8, color=\"black\", ha='right', va='top')\n",
        "\n",
        "    # Labels and title\n",
        "    ax.set_xlabel('CO2 Emissions')\n",
        "    ax.set_ylabel(\"Life Expectancy\")\n",
        "    ax.set_title(f\"Income: {income_group}\")\n",
        "    ax.grid(axis='x')\n",
        "\n",
        "    # Set legend\n",
        "    #ax.legend(loc='upper right')\n",
        "\n",
        "    # Set consistent axis limits\n",
        "    ax.set_xlim(0, 10000000)  # x-axis from 0 to 70\n",
        "    ax.set_ylim(40, 85)  # y-axis from 40 to 85\n",
        "\n",
        "# Adjust layout\n",
        "plt.tight_layout()\n",
        "plt.show()\n",
        "\n",
        "# The values are unusually large, and it is not possible to align the x-axis and y-axis."
      ],
      "metadata": {
        "id": "qr2OEaJe8Y1M"
      },
      "execution_count": null,
      "outputs": []
    },
    {
      "cell_type": "code",
      "source": [
        "# check min & max\n",
        "print(df_cleaned['co2'].max())\n",
        "print(df_cleaned['co2'].min())\n",
        "print(df_cleaned['co2'].head(10))\n"
      ],
      "metadata": {
        "id": "fhlow9ufZzRV"
      },
      "execution_count": null,
      "outputs": []
    },
    {
      "cell_type": "code",
      "source": [
        "# histgram\n",
        "df_cleaned['co2'].hist(bins=50, color=colors[2], alpha=0.7, edgecolor = \"black\")\n",
        "plt.title('Distribution of CO2')\n",
        "plt.xlabel('CO2')\n",
        "plt.ylabel('Frequency')\n",
        "plt.title('Distribution of CO2')\n",
        "plt.grid(axis='x', alpha=0.7)\n",
        "plt.show()\n"
      ],
      "metadata": {
        "id": "0aN7zmd7b1y7"
      },
      "execution_count": null,
      "outputs": []
    },
    {
      "cell_type": "markdown",
      "source": [
        "**Figure C-13b. The impact of CO2 on Life Expectancy (CO2 <= 100,000)**\n",
        "\n",
        "Initially, removing the extreme outliers did not fully address the issue. Therefore, we focused on the data where CO2 emissions are below 100,000, as a substantial amount of data falls within this range.\n",
        "\n",
        "As a result, life expectancy exhibits an upward trend, particularly evident in the low-income group.\n",
        "\n"
      ],
      "metadata": {
        "id": "QGp2l-l3a5EK"
      }
    },
    {
      "cell_type": "code",
      "source": [
        "# Figure C-13b. The impact of CO2 on Life Expectancy (CO2 <= 100,000)\n",
        "# Initially, removing the extreme outliers did not fully address the issue.\n",
        "# Therefore, we focused on the data where CO2 emissions are below 100,000, as a substantial amount of data falls within this range.\n",
        "\n",
        "df_filtered = df_cleaned[(df_cleaned['co2'] <= 100000)].copy()\n",
        "\n",
        "sns.scatterplot(data=df_filtered, x='co2', y='life_expectancy', hue='income', palette='viridis', alpha=0.6, edgecolor=\"black\")\n",
        "\n",
        "sns.regplot(data=df_filtered, x='co2', y=\"life_expectancy\", scatter=False, color=\"gray\", label=\"Regression Line\")\n",
        "\n",
        "slope, intercept, r_value, p_value, std_err = stats.linregress(df_filtered['co2'], df_filtered['life_expectancy'])\n",
        "equation_text = f'Life Expectancy = {slope:.2f} * CO2 + {intercept:.2f}\\nR-squared = {r_value**2:.3f}'\n",
        "\n",
        "plt.text(min(df_filtered['co2']) + 50000, max(df_filtered['life_expectancy']) - 40, equation_text, fontsize=8, color=\"black\")\n",
        "\n",
        "plt.xlabel('CO2')\n",
        "plt.ylabel(\"Life Expectancy\")\n",
        "plt.title(\"The impact of CO2 on Life Expectancy (CO2 <= 100,000)\")\n",
        "plt.legend(bbox_to_anchor=(1.05, 1), loc='upper left')\n",
        "plt.grid(axis='x')\n",
        "\n",
        "plt.show()"
      ],
      "metadata": {
        "id": "GIyg-jqMMWN8"
      },
      "execution_count": null,
      "outputs": []
    },
    {
      "cell_type": "markdown",
      "source": [
        "As a result, life expectancy exhibits an upward trend, particularly evident in the low-income group.\n",
        "\n"
      ],
      "metadata": {
        "id": "K2RvM7_3bWkV"
      }
    },
    {
      "cell_type": "code",
      "source": [
        "# As a result, life expectancy exhibits an upward trend, particularly evident in the low-income group.\n",
        "\n",
        "income_groups = ['Low income', 'Lower middle income', 'Upper middle income', 'High income']\n",
        "\n",
        "fig, axes = plt.subplots(1, 4, figsize=(20, 5))\n",
        "\n",
        "color_map = {\n",
        "    'Low income': colors[0],\n",
        "    'Lower middle income': colors[2],\n",
        "    'Upper middle income': colors[5],\n",
        "    'High income': colors[7]\n",
        "}\n",
        "\n",
        "df_filtered = df_cleaned[(df_cleaned['co2'] <= 100000)]\n",
        "\n",
        "for i, income_group in enumerate(income_groups):\n",
        "    ax = axes[i]\n",
        "\n",
        "    data_income_group = df_filtered[df_filtered['income'] == income_group]\n",
        "\n",
        "    sns.scatterplot(data=data_income_group, x='co2', y='life_expectancy',\n",
        "                    color=color_map[income_group], alpha=0.6, edgecolor=\"black\", ax=ax)\n",
        "\n",
        "    sns.regplot(data=data_income_group, x=\"co2\", y=\"life_expectancy\", scatter=False,\n",
        "                color=\"gray\", ax=ax, label=\"Regression Line\")\n",
        "\n",
        "    slope, intercept, r_value, p_value, std_err = stats.linregress(data_income_group['co2'], data_income_group['life_expectancy'])\n",
        "    equation_text = f'Life Expectancy = {slope:.2f} * CO2 + {intercept:.2f}\\nR-squared = {r_value**2:.3f}'\n",
        "\n",
        "    ax.text(80000, 45, equation_text, fontsize=8, color=\"black\", ha='right', va='top')\n",
        "    ax.set_xlabel('CO2 Emissions')\n",
        "    ax.set_ylabel(\"Life Expectancy\")\n",
        "    ax.set_title(f\"Income: {income_group}\")\n",
        "    ax.grid(axis='x')\n",
        "\n",
        "    # Set legend\n",
        "    #ax.legend(loc='upper right')\n",
        "\n",
        "    # Set consistent axis limits\n",
        "    ax.set_xlim(0, 100000)\n",
        "    ax.set_ylim(40, 85)\n",
        "\n",
        "plt.tight_layout()\n",
        "plt.show()"
      ],
      "metadata": {
        "id": "L7FNJtiKMttW"
      },
      "execution_count": null,
      "outputs": []
    },
    {
      "cell_type": "markdown",
      "source": [
        "**Figure C-13c. Figure C-13c. The impact of CO2 on Life Expectancy (100,000 < CO2 <= 400,000)**\n",
        "\n",
        "Subsequently, we analyzed the range of CO2 emissions from 100,000 to 400,000. We observed that, within the upper-middle-income group, as CO2 emissions increase, life expectancy tends to decrease.\n",
        "\n",
        "Based on these findings, we can conclude the following:\n",
        "\n",
        "For CO2 emissions less than or equal to 100,000, life expectancy increases.\n",
        "For CO2 emissions greater than 100,000, life expectancy tends to decrease."
      ],
      "metadata": {
        "id": "OJ901huZbe9I"
      }
    },
    {
      "cell_type": "code",
      "source": [
        "# Figure C-13c. Figure C-13c. The impact of CO2 on Life Expectancy (100,000 < CO2 <= 400,000)\n",
        "# Subsequently, we analyzed the range of CO2 emissions from 100,000 to 400,000.\n",
        "# We observed that, within the upper-middle-income group, as CO2 emissions increase,\n",
        "# life expectancy tends to decrease.\n",
        "\n",
        "df_filtered = df_cleaned[(df_cleaned['co2'] > 100000) & (df_cleaned['co2'] <= 400000)].copy()\n",
        "\n",
        "sns.scatterplot(data=df_filtered, x='co2', y='life_expectancy', hue='income', palette='viridis', alpha=0.6, edgecolor=\"black\")\n",
        "\n",
        "sns.regplot(data=df_filtered, x='co2', y=\"life_expectancy\", scatter=False, color=\"gray\", label=\"Regression Line\")\n",
        "\n",
        "slope, intercept, r_value, p_value, std_err = stats.linregress(df_filtered['co2'], df_filtered['life_expectancy'])\n",
        "equation_text = f'Life Expectancy = {slope:.2f} * CO2 + {intercept:.2f}\\nR-squared = {r_value**2:.3f}'\n",
        "\n",
        "plt.text(min(df_filtered['co2']) + 50000, max(df_filtered['life_expectancy']) - 30, equation_text, fontsize=8, color=\"black\")\n",
        "\n",
        "plt.xlabel('CO2')\n",
        "plt.ylabel(\"Life Expectancy\")\n",
        "plt.title(\"Figure C-13c. The impact of CO2 on Life Expectancy (100,000 < CO2 <= 400,000)\")\n",
        "plt.legend(bbox_to_anchor=(1.05, 1), loc='upper left')\n",
        "plt.grid(axis='x')\n",
        "\n",
        "plt.show()"
      ],
      "metadata": {
        "id": "Z6_pdiTNQKW3"
      },
      "execution_count": null,
      "outputs": []
    },
    {
      "cell_type": "code",
      "source": [
        "income_groups = ['Low income', 'Lower middle income', 'Upper middle income', 'High income']\n",
        "\n",
        "color_map = {\n",
        "    'Low income': colors[0],\n",
        "    'Lower middle income': colors[2],\n",
        "    'Upper middle income': colors[5],\n",
        "    'High income': colors[7]\n",
        "}\n",
        "\n",
        "df_filtered = df_cleaned[(df_cleaned['co2'] > 100000) & (df_cleaned['co2'] <= 400000)]\n",
        "\n",
        "fig, axes = plt.subplots(1, 4, figsize=(20, 5))\n",
        "\n",
        "for i, income_group in enumerate(income_groups):\n",
        "    ax = axes[i]\n",
        "    data_income_group = df_filtered[df_filtered['income'] == income_group]\n",
        "\n",
        "    if not data_income_group.empty:\n",
        "        sns.scatterplot(data=data_income_group, x='co2', y='life_expectancy',\n",
        "                        color=color_map[income_group], alpha=0.6, edgecolor=\"black\", ax=ax)\n",
        "        sns.regplot(data=data_income_group, x=\"co2\", y=\"life_expectancy\", scatter=False,\n",
        "                    color=\"gray\", ax=ax, label=\"Regression Line\")\n",
        "        slope, intercept, r_value, p_value, std_err = stats.linregress(data_income_group['co2'], data_income_group['life_expectancy'])\n",
        "        equation_text = f'Life Expectancy = {slope:.2f} * CO2 + {intercept:.2f}\\nR-squared = {r_value**2:.3f}'\n",
        "        ax.text(min(data_income_group['co2']) + 50000, max(data_income_group['life_expectancy']) - 30, equation_text, fontsize=8, color=\"black\")\n",
        "\n",
        "    else:\n",
        "        ax.set_title(f\"No Data for {income_group}\")\n",
        "        ax.set_xlabel('CO2 Emissions')\n",
        "        ax.set_ylabel(\"Life Expectancy\")\n",
        "\n",
        "    ax.set_xlabel('CO2 Emissions')\n",
        "    ax.set_ylabel(\"Life Expectancy\")\n",
        "    ax.set_title(f\"Income: {income_group}\")\n",
        "    ax.grid(axis='x')\n",
        "\n",
        "    # Set legend\n",
        "    #ax.legend(loc='upper right')\n",
        "\n",
        "    ax.set_xlim(100000, 400000)\n",
        "    ax.set_ylim(40, 85)\n",
        "\n",
        "plt.tight_layout()\n",
        "plt.show()\n",
        "\n"
      ],
      "metadata": {
        "id": "TOSwaHy8b8Eg"
      },
      "execution_count": null,
      "outputs": []
    },
    {
      "cell_type": "markdown",
      "source": [
        "**Figure C-13d. The impact of CO2 on Life Expectancy (CO2 > 400,000)**\n",
        "\n",
        "Above 400,000, the data points become sparse, making it difficult to draw definitive conclusions. However, it appears that as CO2 emissions rise, life expectancy tends to decrease or, at best, shows no significant increase."
      ],
      "metadata": {
        "id": "yzoVoLsCb71m"
      }
    },
    {
      "cell_type": "code",
      "source": [
        "# Figure C-13d. The impact of CO2 on Life Expectancy (CO2 > 400,000)\n",
        "# Above 400,000, the data points become sparse, making it difficult to draw definitive conclusions.\n",
        "# However, it appears that as CO2 emissions rise, life expectancy tends to decrease or, at best, shows no significant increase.\n",
        "\n",
        "df_filtered = df_cleaned[(df_cleaned['co2'] > 400000)].copy()\n",
        "\n",
        "sns.scatterplot(data=df_filtered, x='co2', y='life_expectancy', hue='income', palette='viridis', alpha=0.6, edgecolor=\"black\")\n",
        "\n",
        "sns.regplot(data=df_filtered, x='co2', y=\"life_expectancy\", scatter=False, color=\"gray\", label=\"Regression Line\")\n",
        "\n",
        "slope, intercept, r_value, p_value, std_err = stats.linregress(df_filtered['co2'], df_filtered['life_expectancy'])\n",
        "equation_text = f'Life Expectancy = {slope:.2f} * CO2 + {intercept:.2f}\\nR-squared = {r_value**2:.3f}'\n",
        "\n",
        "plt.text(min(df_filtered['co2']) + 5000000, max(df_filtered['life_expectancy']) - 20, equation_text, fontsize=8, color=\"black\")\n",
        "\n",
        "plt.xlabel('CO2')\n",
        "plt.ylabel(\"Life Expectancy\")\n",
        "plt.title(\"Figure C-13d. The impact of CO2 on Life Expectancy (CO2 > 400,000)\")\n",
        "\n",
        "plt.legend(bbox_to_anchor=(1.05, 1), loc='upper left')\n",
        "plt.grid(axis='x')\n",
        "\n",
        "plt.xticks(ticks=range(400000, int(df_filtered['co2'].max()) + 1, 2000000),\n",
        "           labels=[f'{x:,}' for x in range(400000, int(df_filtered['co2'].max()) + 1, 2000000)])\n",
        "\n",
        "plt.xticks(rotation=45)\n",
        "\n",
        "plt.show()\n",
        "\n",
        "\n"
      ],
      "metadata": {
        "id": "Jv1UXUU1X_Gk"
      },
      "execution_count": null,
      "outputs": []
    },
    {
      "cell_type": "code",
      "source": [
        "color_map = {\n",
        "    'Low income': colors[0],\n",
        "    'Lower middle income': colors[2],\n",
        "    'Upper middle income': colors[5],\n",
        "    'High income': colors[7]\n",
        "}\n",
        "\n",
        "df_filtered = df_cleaned[(df_cleaned['co2'] > 400000)].copy()\n",
        "\n",
        "fig, axes = plt.subplots(1, 4, figsize=(20, 5))\n",
        "\n",
        "for i, income_group in enumerate(income_groups):\n",
        "    ax = axes[i]\n",
        "    data_income_group = df_filtered[df_filtered['income'] == income_group]\n",
        "\n",
        "    if not data_income_group.empty:\n",
        "        sns.scatterplot(data=data_income_group, x='co2', y='life_expectancy',\n",
        "                        color=color_map[income_group], alpha=0.6, edgecolor=\"black\", ax=ax)\n",
        "        sns.regplot(data=data_income_group, x=\"co2\", y=\"life_expectancy\", scatter=False,\n",
        "                    color=\"gray\", ax=ax, label=\"Regression Line\")\n",
        "\n",
        "        slope, intercept, r_value, p_value, std_err = stats.linregress(data_income_group['co2'], data_income_group['life_expectancy'])\n",
        "        equation_text = f'Life Expectancy = {slope:.2f} * CO2 + {intercept:.2f}\\nR-squared = {r_value**2:.3f}'\n",
        "        ax.text(400000, 40, equation_text, fontsize=8, color=\"black\", ha='left', va='bottom')\n",
        "    else:\n",
        "        ax.set_title(f\"No Data for {income_group}\")\n",
        "        ax.set_xlabel('CO2 Emissions')\n",
        "        ax.set_ylabel(\"Life Expectancy\")\n",
        "\n",
        "    ax.set_xlabel('CO2 Emissions')\n",
        "    ax.set_ylabel(\"Life Expectancy\")\n",
        "    ax.set_title(f\"Income: {income_group}\")\n",
        "    ax.set_ylim(40, 85)\n",
        "    ax.set_xticks(range(400000, int(df_filtered['co2'].max()) + 1, 2000000))\n",
        "    ax.set_xticklabels([f'{x:,}' for x in range(400000, int(df_filtered['co2'].max()) + 1, 2000000)])\n",
        "    ax.tick_params(axis='x', rotation=45)\n",
        "    ax.grid(axis='x')\n",
        "\n",
        "plt.tight_layout()\n",
        "plt.show()\n"
      ],
      "metadata": {
        "id": "yBZ9JQsbY-GW"
      },
      "execution_count": null,
      "outputs": []
    },
    {
      "cell_type": "code",
      "source": [
        "filtered_data_highco2 = df_cleaned[df_cleaned['co2'] >= 400000][['country', 'income', 'co2']]\n",
        "print(filtered_data_highco2)"
      ],
      "metadata": {
        "id": "qhv8KmqQDRDV"
      },
      "execution_count": null,
      "outputs": []
    },
    {
      "cell_type": "code",
      "source": [
        "filtered_data_highco2_highincome = df_cleaned[(df_cleaned['co2'] >= 400000) & (df_cleaned['income'] == 'High income')][['country', 'income', 'co2']]\n",
        "print(filtered_data_highco2_highincome)"
      ],
      "metadata": {
        "id": "15488avmEJbR"
      },
      "execution_count": null,
      "outputs": []
    },
    {
      "cell_type": "code",
      "source": [
        "filtered_data_highco2 = df_cleaned[df_cleaned['co2'] >= 4000000][['country', 'income', 'co2']]\n",
        "print(filtered_data_highco2)"
      ],
      "metadata": {
        "id": "nhzi7CWvKM3N"
      },
      "execution_count": null,
      "outputs": []
    },
    {
      "cell_type": "code",
      "source": [
        "filtered_data_highco2_highincome = df_cleaned[(df_cleaned['co2'] >= 4000000) & (df_cleaned['income'] == 'High income')][['country', 'income', 'co2']]\n",
        "print(filtered_data_highco2_highincome)"
      ],
      "metadata": {
        "id": "bo0lxauJKW6K"
      },
      "execution_count": null,
      "outputs": []
    }
  ]
}
