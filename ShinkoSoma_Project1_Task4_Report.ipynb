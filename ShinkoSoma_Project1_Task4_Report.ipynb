{
  "nbformat": 4,
  "nbformat_minor": 0,
  "metadata": {
    "colab": {
      "provenance": [],
      "authorship_tag": "ABX9TyOb7YFfmfCVrtrPnx8cl5G3",
      "include_colab_link": true
    },
    "kernelspec": {
      "name": "python3",
      "display_name": "Python 3"
    },
    "language_info": {
      "name": "python"
    }
  },
  "cells": [
    {
      "cell_type": "markdown",
      "metadata": {
        "id": "view-in-github",
        "colab_type": "text"
      },
      "source": [
        "<a href=\"https://colab.research.google.com/github/ssoma2mc/Data110/blob/main/ShinkoSoma_Project1_Task4_Report.ipynb\" target=\"_parent\"><img src=\"https://colab.research.google.com/assets/colab-badge.svg\" alt=\"Open In Colab\"/></a>"
      ]
    },
    {
      "cell_type": "markdown",
      "source": [
        "# Data 110 Data Visualization\n",
        "# Project 1: Task 4 Project Report\n"
      ],
      "metadata": {
        "id": "dTfeNxJOEc5a"
      }
    },
    {
      "cell_type": "markdown",
      "source": [
        "# 1.Introduction to the Data\n",
        "\n",
        "## 1.1 Introduction to the Dataset\n",
        "\n",
        "I chose the dataset **'life_exp_kaggle_full.csv'**.\n",
        "\n",
        "The data is assumed to be sourced from Kaggle's life expectancy dataset from the WHO. However, it differs from the Kaggle dataset available on their website, and I could not find a data dictionary to verify the dataset's specifics.\n",
        "\n",
        "There are a total of 16 columns, including 'Country Name', 'Country Code', 'Region', 'IncomeGroup','Year', 'Life Expectancy', 'Prevalence of Undernutrition', 'CO2', 'Health Expenditure', 'Education Expenditure', 'Unemployment', 'Corruption', 'Sanitation', 'Injuries', 'Communicable Diseases', and 'Non-Communicable Diseases. The dataset contains 3,306 entries in total.\n",
        "\n",
        "From a data analysis perspective, the 'IncomeGroup' is a categorical variable, while the others are numerical. However,'corruption,' is measured on a scale.\n",
        "\n",
        "There are variables which has strong correlation, such as 0.95 for 'injuries' and 'Non Communicable Diseases', 0.82 for 'CO2' and 'Non Communicable Diseases', and 0.77 'injururies' and 'Communicable diseases.'\n",
        "\n",
        "Additionally, there is a significant amount of missing data in the dataset ('corruption' 2331, ''sanitation' 1247, 'Education Expenditure' 1090...)\n",
        "\n",
        "## 1.2 Reasons for Choice\n",
        "\n",
        "The reason for selecting this dataset is the interest in demographic data, the need for country-specific approaches to improving life expectancy, and the relatively new focus on the impact of CO2 on life expectancy.\n",
        "\n",
        "Life expectancy refers to the average number of years a person born in a specific country or region can expect to live in good health, as opposed to being a simple statistic of the age at death.\n",
        "\n",
        "Factors that influence life expectancy, according to existing literature, include variables such as income, education, healthcare, and nutrition 1-3).\n",
        "\n",
        "All of the data in this dataset are considered predictor variables, as they are well-known determinants of life expectancy. While region and race can also be predictors, they are generally secondary factors.\n",
        "\n",
        "Recently, the impact of CO2 on life expectancy has attracted significant attention 4).\n"
      ],
      "metadata": {
        "id": "3OmRcoHDFDt_"
      }
    },
    {
      "cell_type": "markdown",
      "source": [
        "# 2. A summary of the process and key observations.\n",
        "## 2.1 Summary of the process\n",
        "I used the following codes and explore the data set.\n",
        "- df.head(),\n",
        "df.tail(),\n",
        "df.shape(),\n",
        "df.info(),\n",
        "df.describe(),\n",
        "df.isna().sum(),\n",
        "sns.heatmap(df.isna(), cmap='coolwarm', cbar=False),\n",
        "plt.show(),\n",
        "df.duplicated().sum(),\n",
        "df.nunique(),\n",
        "df.corr(),\n",
        "\n",
        "- for numerical data:\n",
        "numeric_df = df.select_dtypes(include=['number']),\n",
        "numeric_df.corr(),\n",
        "plt.figure(figsize=(10, 8)),\n",
        "sns.heatmap(numeric_df.corr(), annot=True, cmap='coolwarm', fmt=\".2f\", linewidths=0.5),\n",
        "plt.title(\"Correlation Matrix\"),\n",
        "plt.show()\n",
        "\n",
        "- for categorical data:\n",
        "categorical_df = df.select_dtypes(include=['object']),\n",
        "print(categorical_df.head()),\n",
        "df[''].value_counts(),\n",
        "df[''].value_counts(normalize=True) * 100\n",
        "\n",
        "After that, I worked on the task by answering the following questions:\n",
        "\n",
        "- A. What is the current life expectancy?\n",
        "- B. How does life expectancy vary by country and region?\n",
        "- C. What factors influence life expectancy?\n",
        "- D. Can we predict the life expectancy from this data?  \n",
        "\n",
        "## A. What is the current life expectancy?\n",
        "\n",
        "The global average life expectancy increased from 66.67 years in 2001 to 72.59 years in 2019 (Figure A-1).\n",
        "\n",
        "## B. How does life expectancy vary by country or region?\n",
        "\n",
        "Life expectancy varies from a minimum of 53.28 years (Japan) to a maximum of 84.36 years (Central African Republic).\n",
        "\n",
        "There are significant regional differences in life expectancy.\n",
        "\n",
        "North America has the highest life expectancy at 80.90 years, while Sub-Saharan Africa has the lowest life expectancy at 62.72 years (Figure A-2).\n",
        "\n",
        "Although there are regional differences, life expectancy shows an upward trend in all regions (Figure A-5) .\n",
        "\n"
      ],
      "metadata": {
        "id": "3SdWk4cPGoKC"
      }
    },
    {
      "cell_type": "markdown",
      "source": [
        "## C. What factors influence life expectancy?\n",
        "\n",
        "I conduct the order in the following order.\n",
        "- I. Pair plots to observe the overview.\n",
        "- II. Close Examination the relationship between each predictor variable and life expectancy.\n",
        "-i) categorical variables\n",
        "      a) Income group\n",
        "      b) Region\n",
        "-ii) numerical variables\n",
        "      c) Under Nourishment\n",
        "      d) CO2\n",
        "      e) Health Expenditure\n",
        "      f) Education Expenditure\n",
        "      g) Unemployment\n",
        "      h) Corruption\n",
        "      i) Sanitation\n",
        "      j) Injuries\n",
        "      k) Communicable\n",
        "      l) Non-Communicable\n",
        "\n",
        "By using the pair plot, we were able to roughly capture the relationships between our 10 predictor variables (prevalence of undernutrition, CO2 emissions, health expenditure %, education expenditure %, unemployment, corruption, sanitation, injuries, communicable diseases, and non-communicable diseases*), all of which influence life expectancy.\n",
        "*'corrupition' was excluded becasue it contains too many Nan.\n",
        "\n",
        "Additionally, when examining scatter plots for each income group and region, we observed distinct clusters, indicating groupings within the data.\n",
        "\n",
        "In general, region (and race) can serve as predictors, but they are secondary. These factors influence life expectancy due to social determinants such as access to healthcare, socioeconomic status, and education. Therefore, in this analysis, I focused on examining income groups.\n",
        "\n",
        "After that I examined the relationships between each variables and life expectancy, using scatter plots.\n",
        "\n",
        "As an overview, all variables, except for CO2, as the variables increase in the favorable direction, life expectancy tends to increase as well.\n",
        "\n",
        "However, I will report about three variables that I have realized, emphasizing that ones should not make a generalized interpretation.\n",
        "\n",
        "- 1) Income group\n",
        "- 2) Health Expenditure\n",
        "- 3) Education Expenditure\n",
        "- 4) CO2\n",
        "\n",
        "\n"
      ],
      "metadata": {
        "id": "WO27-UhhWWMi"
      }
    },
    {
      "cell_type": "markdown",
      "source": [
        "1) Income Group:\n",
        "In the low-income group, life expectancy is 56.56 years. As income increases, life expectancy rises, reaching 78.85 years in the high-income group.\n",
        "\n",
        "2) Health Expenditure: As health expenditure increases, life expectancy also rises. Specifically, in the high-income group, an increase in health expenditure leads to a significant rise in life expectancy, while in the low-income group, the increase is minimal.\n",
        "\n",
        "3) Education Expenditure: As education expenditure increases, life expectancy also rises. Specifically, in the low-income group, an increase in education expenditure leads to a significant rise in life expectancy,\n",
        "while in the high-income group, the increase is minimal.\n",
        "\n",
        "4) CO2 Emission\n",
        "\n",
        "I examine the impact of CO2 emissions on life expectancy. When visualizing the effect of CO2 on life expectancy using a scatter plot, the data is left-skewed, which complicates interpretation. There are a few extreme outliers on the right side that distort the overall shape of the graph.\n",
        "\n",
        "After removing the outliers, the graph reveals a saturation curve.\n",
        "\n",
        "Observations by income group show that there is a positive relationship between CO2 and life expectancy when CO2 is below a certain point, around 35,000 (I attempted to calculate the exact threshold but could not). However, once CO2 reaches that level, it has a negative effect on life expectancy.\n"
      ],
      "metadata": {
        "id": "JyK4OalnaAOE"
      }
    },
    {
      "cell_type": "markdown",
      "source": [
        "## D. Can we predict life expectancy from this data?\n",
        "\n",
        "I tried linear regression models.\n",
        "\n",
        "## Model A (Model 8)\n",
        "There's some overfitting, but it doesn't seem too bad.\n",
        "\n",
        "**Coefficients:**\n",
        "\n",
        "| Variable                  | Coefficient   |\n",
        "|---------------------------|---------------|\n",
        "| under_nourishment          | -1.696839     |\n",
        "| health_expenditure         | 0.159046      |\n",
        "| education_expenditure      | 1.003542      |\n",
        "| unemployment               | -1.173628     |\n",
        "| communicable               | -2.215451     |\n",
        "| income_group_encoded       | 3.535869      |\n",
        "| corruption                 | 0.332110      |\n",
        "\n",
        "**Evaluation Metrics:**\n",
        "\n",
        "- **R²**: 0.667861071813951\n",
        "- **Training Mean Squared Error**: 19.909012910873347\n",
        "- **Testing Mean Squared Error**: 17.988710859070256\n",
        "\n",
        "\n",
        "## Model B\n",
        "\n",
        "The results suggest the following relationship between CO2 emissions and life expectancy:\n",
        "\n",
        "For CO2 emissions less than or equal to 35,000, life expectancy increases (Coefficient = 1.54).\n",
        "For CO2 emissions greater than 35,000, life expectancy decreases (Coefficient = -0.69).\n",
        "I think this is a reasonable interpretation of the findings.\n",
        "\n",
        "### i) CO2 all (Model 9)\n",
        "\n",
        "**Coefficients:**\n",
        "\n",
        "| Variable                  | Coefficient   |\n",
        "|---------------------------|---------------|\n",
        "| under_nourishment          | -3.921233     |\n",
        "| health_expenditure         | 2.725108      |\n",
        "| education_expenditure      | 0.726576      |\n",
        "| unemployment               | -0.066631     |\n",
        "| co2                        | 0.858437      |\n",
        "\n",
        "**Evaluation Metrics:**\n",
        "\n",
        "- **R²**: 0.6627855565959417\n",
        "- **Training Mean Squared Error**: 25.34003947768934\n",
        "- **Testing Mean Squared Error**: 17.07586571231005\n",
        "\n",
        "\n",
        "### ii) CO2 ≤ 35000 (Model 10)\n",
        "\n",
        "**Coefficients:**\n",
        "\n",
        "| Variable                  | Coefficient   |\n",
        "|---------------------------|---------------|\n",
        "| under_nourishment          | -4.066056     |\n",
        "| health_expenditure         | 3.020218      |\n",
        "| education_expenditure      | 1.073102      |\n",
        "| unemployment               | 0.139971      |\n",
        "| co2                        | 1.540555      |\n",
        "\n",
        "**Evaluation Metrics:**\n",
        "\n",
        "- **R²**: 0.4695712363070941\n",
        "- **Training Mean Squared Error**: 27.008379818845512\n",
        "- **Testing Mean Squared Error**: 31.316108296626126\n",
        "\n",
        "\n",
        "### iii) CO2 > 35000 (Model 11)\n",
        "\n",
        "**Coefficients:**\n",
        "\n",
        "| Variable                  | Coefficient   |\n",
        "|---------------------------|---------------|\n",
        "| under_nourishment          | -0.740514     |\n",
        "| health_expenditure         | 2.722035      |\n",
        "| education_expenditure      | 0.475720      |\n",
        "| unemployment               | -0.660099     |\n",
        "| co2                        | -0.687016     |\n",
        "\n",
        "**Evaluation Metrics:**\n",
        "\n",
        "- **R²**: 0.7311660902125763\n",
        "- **Training Mean Squared Error**: 5.9344628059052695\n",
        "- **Testing Mean Squared Error**: 5.673178078010252\n"
      ],
      "metadata": {
        "id": "vzy2QvbBVcLi"
      }
    },
    {
      "cell_type": "markdown",
      "source": [
        "# 4. Summary\n",
        "## 4.1 Key findings from the analysis\n",
        "\n",
        "The analysis of life expectancy data reveals significant regional and income-based disparities in global life expectancy trends. The global average life expectancy is 72.59 years, but this figure masks substantial variation across countries and regions. Notably, North America boasts the highest life expectancy, while Sub-Saharan Africa reports the lowest. The range of life expectancy spans from 53.28 years in the lowest to 84.36 years in the highest. Income group also plays a critical role in shaping life expectancy, with high-income countries having an average life expectancy of 78.85 years, compared to 56.56 years in low-income countries.\n",
        "\n",
        "Further analysis indicates that the impact of key predictors on life expectancy, such as health expenditure, education expenditure, and CO2 emissions, differs by income group. In high-income countries, health expenditure plays a more significant role in improving life expectancy, while education expenditure has a greater impact in low-income countries. Additionally, the relationship between CO2 emissions and life expectancy is complex: CO2 emissions seem to have a positive effect on life expectancy at lower levels (<= 35,000), but the effect turns negative when emissions exceed 35,000.\n",
        "\n",
        "However, there are limitations in the available CO2 data, particularly the presence of extreme values and the assumption of a linear relationship between emissions and life expectancy. Given these limitations, more sophisticated modeling techniques and further investigation into CO2 emissions data are necessary for more accurate conclusions.\n",
        "\n",
        "## 4.2 Recommendation for further research\n",
        "\n",
        "Recommendations for Further Research:\n",
        "\n",
        "Country-Specific Public Health Approaches: Further research should focus on tailored public health strategies that take into account the unique economic and healthcare conditions of each country, especially in low-income regions.\n",
        "\n",
        "Refinement of CO2 Data: Addressing the limitations in CO2 data through better modeling techniques to account for extreme values and non-linearity in the relationship between CO2 emissions and life expectancy."
      ],
      "metadata": {
        "id": "Wf3o4I4KXo--"
      }
    },
    {
      "cell_type": "markdown",
      "source": [
        "References\n",
        "\n",
        "    1) Mackenbach, J. P., Valverde, J. R., Bopp, M., Brønnum-Hansen, H., Deboosere, P., Kalediene, R., Kovács, K., Leinsalu, M., Martikainen, P., Menvielle, G., Regidor, E., & Nusselder, W. J. (2019). Determinants of inequalities in life expectancy: an international comparative study of eight risk factors. The Lancet. Public Health, 4(10), e529–e537. https://doi.org/10.1016/S2468-2667(19)30147-1\n",
        "    2) Hauck, K., Martin, S., & Smith, P. C. (2016). Priorities for action on the social determinants of health: Empirical evidence on the strongest associations with life expectancy in 54 low-income countries, 1990–2012. Social Science & Medicine (1982), 167, 88–98. https://doi.org/10.1016/j.socscimed.2016.08.035\n",
        "    3) Eriksen, S., & Wiese, R. (2019). Policy induced increases in private healthcare financing provide short-term relief of total healthcare expenditure growth: Evidence from OECD countries. European Journal of Political Economy, 59, 71–82. https://doi.org/10.1016/j.ejpoleco.2019.02.001\n",
        "    4) Bressler, R. D. (2021). The mortality cost of carbon. Nature Communications, 12(1), 1–12. https://doi.org/10.1038/s41467-021-24487-w"
      ],
      "metadata": {
        "id": "PtWgF7ITbFna"
      }
    }
  ]
}