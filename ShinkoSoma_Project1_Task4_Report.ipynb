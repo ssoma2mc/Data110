{
  "nbformat": 4,
  "nbformat_minor": 0,
  "metadata": {
    "colab": {
      "provenance": [],
      "authorship_tag": "ABX9TyOMACd2LX7JY5pVSdf3cpBi",
      "include_colab_link": true
    },
    "kernelspec": {
      "name": "python3",
      "display_name": "Python 3"
    },
    "language_info": {
      "name": "python"
    }
  },
  "cells": [
    {
      "cell_type": "markdown",
      "metadata": {
        "id": "view-in-github",
        "colab_type": "text"
      },
      "source": [
        "<a href=\"https://colab.research.google.com/github/ssoma2mc/Data110/blob/main/ShinkoSoma_Project1_Task4_Report.ipynb\" target=\"_parent\"><img src=\"https://colab.research.google.com/assets/colab-badge.svg\" alt=\"Open In Colab\"/></a>"
      ]
    },
    {
      "cell_type": "markdown",
      "source": [
        "# Data 110 Data Visualization\n",
        "# Project 1: Task 4 Project Report\n"
      ],
      "metadata": {
        "id": "dTfeNxJOEc5a"
      }
    },
    {
      "cell_type": "markdown",
      "source": [
        "# 1.Introduction to the Data\n",
        "\n",
        "## 1.1 Introduction to the Dataset\n",
        "\n",
        "I chose the dataset **'life_exp_kaggle_full.csv'**.\n",
        "\n",
        "The data is assumed to be sourced from Kaggle's life expectancy dataset from the WHO. However, it differs from the Kaggle dataset available on their website, and I could not find a data dictionary to verify the dataset's specifics.\n",
        "\n",
        "There are a total of 16 columns, including 'Country Name', 'Country Code', 'Region', 'IncomeGroup','Year', 'Life Expectancy', 'Prevalence of Undernutrition', 'CO2', 'Health Expenditure', 'Education Expenditure', 'Unemployment', 'Corruption', 'Sanitation', 'Injuries', 'Communicable Diseases', and 'Non-Communicable Diseases. The dataset contains 3,306 entries in total.\n",
        "\n",
        "From a data analysis perspective, the 'IncomeGroup' is a categorical variable, while the others are numerical. However,'corruption,' is measured on a scale.\n",
        "\n",
        "There are variables which has strong correlation, such as 0.95 for 'injuries' and 'Non Communicable Diseases', 0.82 for 'CO2' and 'Non Communicable Diseases', and 0.77 'injururies' and 'Communicable diseases.'\n",
        "\n",
        "Additionally, there is a significant amount of missing data in the dataset ('corruption' 2331, ''sanitation' 1247, 'Education Expenditure' 1090...)\n",
        "\n",
        "## 1.2 Reasons for Choice\n",
        "\n",
        "The reason for selecting this dataset is the interest in demographic data, the need for country-specific approaches to improving life expectancy, and the relatively new focus on the impact of CO2 on life expectancy.\n",
        "\n",
        "Life expectancy refers to the average number of years a person born in a specific country or region can expect to live in good health, as opposed to being a simple statistic of the age at death.\n",
        "\n",
        "Factors that influence life expectancy, according to existing literature, include variables such as income, education, healthcare, and nutrition 1-3).\n",
        "\n",
        "All of the data in this dataset are considered predictor variables, as they are well-known determinants of life expectancy. While region and race can also be predictors, they are generally secondary factors.\n",
        "\n",
        "Recently, the impact of CO2 on life expectancy has attracted significant attention 4).\n"
      ],
      "metadata": {
        "id": "3OmRcoHDFDt_"
      }
    },
    {
      "cell_type": "markdown",
      "source": [
        "# 2. A summary of the process and key observations.\n",
        "## 2.1 Summary of the process\n",
        "I used the following codes and explore the data set.\n",
        "- df.head(),\n",
        "df.tail(),\n",
        "df.shape(),\n",
        "df.info(),\n",
        "df.describe(),\n",
        "df.isna().sum(),\n",
        "sns.heatmap(df.isna(), cmap='coolwarm', cbar=False),\n",
        "plt.show(),\n",
        "df.duplicated().sum(),\n",
        "df.nunique(),\n",
        "df.corr(),\n",
        "\n",
        "- for numerical data:\n",
        "numeric_df = df.select_dtypes(include=['number']),\n",
        "numeric_df.corr(),\n",
        "plt.figure(figsize=(10, 8)),\n",
        "sns.heatmap(numeric_df.corr(), annot=True, cmap='coolwarm', fmt=\".2f\", linewidths=0.5),\n",
        "plt.title(\"Correlation Matrix\"),\n",
        "plt.show()\n",
        "\n",
        "- for categorical data:\n",
        "categorical_df = df.select_dtypes(include=['object']),\n",
        "print(categorical_df.head()),\n",
        "df[''].value_counts(),\n",
        "df[''].value_counts(normalize=True) * 100\n",
        "\n",
        "After that, I worked on the task by answering the following questions:\n",
        "\n",
        "- A. What is the current life expectancy?\n",
        "- B. How does life expectancy vary by country and region?\n",
        "- C. What factors influence life expectancy? (→Task 3)\n",
        "- D. Can we predict the life expectancy from this data?  (→Task 4)\n",
        "\n",
        "## A. What is the current life expectancy?\n",
        "\n",
        "The global average life expectancy increased from 66.67 years in 2001 to 72.59 years in 2019 (Figure A-1).\n",
        "\n",
        "## B. How does life expectancy vary by country or region?\n",
        "\n",
        "Life expectancy varies from a minimum of 53.28 years (Japan) to a maximum of 84.36 years (Central African Republic) (Figure A-2).\n",
        "\n",
        "There are significant regional differences in life expectancy(Figure A_3).\n",
        "\n",
        "North America has the highest life expectancy at 80.90 years, while Sub-Saharan Africa has the lowest life expectancy at 62.72 years (Figure A-4).\n",
        "\n",
        "Although there are regional differences, life expectancy shows an upward trend in all regions (Figure A-5) .\n",
        "\n"
      ],
      "metadata": {
        "id": "3SdWk4cPGoKC"
      }
    },
    {
      "cell_type": "markdown",
      "source": [
        "# 3. Data Visualization\n",
        "## C. What factors influence life expectancy?\n",
        "\n",
        "I conduct the order in the following order.\n",
        "- I. Pair plots to observe the overview.\n",
        "- II. Close Examination the relationship between each predictor variable and life expectancy.\n",
        "-i) categorical variables\n",
        "      a) Income group\n",
        "      b) Region\n",
        "-ii) numerical variables\n",
        "      c) Under Nourishment\n",
        "      d) CO2\n",
        "      e) Health Expenditure\n",
        "      f) Education Expenditure\n",
        "      g) Unemployment\n",
        "      h) Corruption\n",
        "      i) Sanitation\n",
        "      j) Injuries\n",
        "      k) Communicable\n",
        "      l) Non-Communicable\n",
        "\n",
        "### i. Pair plots to observe the overview.\n",
        "\n",
        "By using the pair plot, we were able to roughly capture the relationships between our 10 predictor variables (prevalence of undernutrition, CO2 emissions, health expenditure %, education expenditure %, unemployment, corruption, sanitation, injuries, communicable diseases, and non-communicable diseases*), all of which influence life expectancy (Figure C-1).\n",
        "*'corrupition' was excluded becasue it contains too many Nan.\n",
        "\n",
        "Additionally, when examining scatter plots for each income group (Figure C-2) and region (Figure C-3), we observed distinct clusters, indicating groupings within the data.\n",
        "\n",
        "In general, region (and race) can serve as predictors, but they are secondary. These factors influence life expectancy due to social determinants such as access to healthcare, socioeconomic status, and education. Therefore, in this analysis, I focused on examining income groups.\n",
        "\n",
        "### ii. Close Examination of the Relationship Between Each Predictor Variable and Life Expectancy\n",
        "\n",
        "####  Categorical Variables\n",
        "\n",
        "- **a) Income Group**: In the low-income group, life expectancy is 56.56 years. As income increases, life expectancy rises, reaching 78.85 years in the high-income group.(Figure C-4)\n",
        "  \n",
        "- **b) Region**: There are regional differences in life expectancy. North America has the highest life expectancy at 80.90 years, while Sub-Saharan Africa has the lowest at 62.72 years.(Figure C-5)\n",
        "\n",
        "####  Numerical Variables\n",
        "\n",
        "- **c) Under Nourishment**: As undernutrition increases, life expectancy decreases among all of the income group.(Figure C-6)\n",
        "\n",
        "- **d) CO2**: As will be discussed later.\n",
        "\n",
        "- **e) Health Expenditure**: As health expenditure increases, life expectancy also rises. Specifically, in the high-income group, an increase in health expenditure leads to a significant rise in life expectancy, while in the low-income group, the increase is minimal.(Figure C-7)\n",
        "\n",
        "- **f) Education Expenditure**: As education expenditure increases, life expectancy also rises. Specifically, in the low-income group, an increase in education expenditure leads to a significant rise in life expectancy, while in the high-income group, the increase is minimal (Figure C-8).\n",
        "\n",
        "- **g) Unemployment**: As unemployment increases, life expectancy decreases among all of the income group (Figure C-9).\n",
        "\n",
        "- **h) Corruption**: When the corruption scale is low (meaning corruption is severe), life expectancy decreases (Figure C-10).\n",
        "\n",
        "- **i) Sanitation**: Overall, as sanitation improves, life expectancy increases. This is particularly noticeable in the lower middle-income group, while it remains stable in the upper middle-income group, and life expectancy decreases in the low-income group (Figure C-11).\n",
        "\n",
        "- **j) Injuries**: Excluding countries that are believed to be in war zones, where injuries are extremely high, an increase in injuries leads to a slight rise in life expectancy (Figure C-12).\n",
        "\n",
        "- **k) Communicable Diseases**: As communicable diseases increase, life expectancy decreases among all of the income group (Figure C-13).\n",
        "\n",
        "- **l) Non-Communicable Diseases**: As non-communicable diseases increase, life expectancy decreases among all of the income group (Figure C-14).\n",
        "\n",
        "\n"
      ],
      "metadata": {
        "id": "WO27-UhhWWMi"
      }
    },
    {
      "cell_type": "markdown",
      "source": [
        "##### **d) CO2**\n",
        "\n",
        "I examine the impact of CO2 emissions on life expectancy. When visualizing the effect of CO2 on life expectancy using a scatter plot, the data is left-skewed, which complicates the interpretation. There are a few extreme outliers on the right side that distort the overall shape of the graph (Figure C-13a).\n",
        "\n",
        "Initially, removing the extreme outliers did not fully address the issue. Therefore, we focused on the data where CO2 emissions are below 100,000, as a substantial amount of data falls within this range (Figure C-13b).\n",
        "\n",
        "As a result, life expectancy exhibits an upward trend, particularly evident in the low-income group.\n",
        "\n",
        "Subsequently, we analyzed the range of CO2 emissions from 100,000 to 400,000. We observed that, within the upper-middle-income group, as CO2 emissions increase, life expectancy tends to decrease (Figure C-13c).\n",
        "\n",
        "Above 400,000, the data points become sparse, making it difficult to draw definitive conclusions. However, it appears that as CO2 emissions rise, life expectancy tends to decrease or, at best, shows no significant increase (Figure C-13d).\n",
        "\n",
        "Based on these findings, we can conclude the following:  \n",
        "- For CO2 emissions less than or equal to 100,000, life expectancy increases.  \n",
        "- For CO2 emissions greater than 100,000, life expectancy tends to decrease.\n"
      ],
      "metadata": {
        "id": "JyK4OalnaAOE"
      }
    },
    {
      "cell_type": "markdown",
      "source": [
        "### D. Can we predict life expectancy from this data?\n",
        "\n",
        "The objective was to express the relationship between predictor variables and life expectancy numerically, using a model.\n",
        "\n",
        "Although linear regression was the only method familiar, it was chosen for this task. Initially, a model was built using well-known variables such as 'under_nourishment', 'health_expenditure', 'education_expenditure', 'unemployment', 'communicable', 'income', and 'corruption', resulting in the following performance metrics:  \n",
        "- **R²**: 0.37  \n",
        "- **Training Mean Squared Error (MSE)**: 33.92  \n",
        "- **Testing Mean Squared Error (MSE)**: 37.05.  \n",
        "\n",
        "These results indicated a moderately effective model(Figure D-1).\n",
        "\n",
        "The variable 'communicable disease', which showed high correlation with other features, was removed, and CO2 emissions were included in the model. The updated results suggest the following relationship between CO2 emissions and life expectancy:\n",
        "\n",
        "- For CO2 emissions less than or equal to 100,000, life expectancy increases (Coefficient = 0.96).\n",
        "- For CO2 emissions greater than 100,000, life expectancy decreases (Coefficient = -1.33).\n",
        "\n",
        "These findings provide a reasonable interpretation of the relationship between CO2 emissions and life expectancy (Figure D-2).\n"
      ],
      "metadata": {
        "id": "vzy2QvbBVcLi"
      }
    },
    {
      "cell_type": "markdown",
      "source": [
        "# 4. Summary\n",
        "## 4.1 Key findings from the analysis\n",
        "\n",
        "The analysis of life expectancy data reveals significant regional and income-based disparities in global life expectancy trends. The global average life expectancy is 72.59 years, but this figure masks substantial variation across countries and regions. Notably, North America boasts the highest life expectancy, while Sub-Saharan Africa reports the lowest. The range of life expectancy spans from 53.28 years in the lowest to 84.36 years in the highest. Income group also plays a critical role in shaping life expectancy, with high-income countries having an average life expectancy of 78.85 years, compared to 56.56 years in low-income countries.\n",
        "\n",
        "Further analysis indicates that the impact of key predictors on life expectancy, such as health expenditure, education expenditure, and CO2 emissions, differs by income group. In high-income countries, health expenditure plays a more significant role in improving life expectancy, while education expenditure has a greater impact in low-income countries. Additionally, the relationship between CO2 emissions and life expectancy is complex: CO2 emissions seem to have a positive effect on life expectancy at lower levels (<= 100,000), but the effect turns negative when emissions exceed 100,000.\n",
        "\n",
        "However, there are limitations in the available CO2 data, particularly the presence of extreme values and the assumption of a linear relationship between emissions and life expectancy. Given these limitations, more sophisticated modeling techniques and further investigation into CO2 emissions data are necessary for more accurate conclusions.\n",
        "\n",
        "## 4.2 Recommendation for further research\n",
        "\n",
        "Recommendations for Further Research:\n",
        "\n",
        "Country-Specific Public Health Approaches: Further research should focus on tailored public health strategies that take into account the unique economic and healthcare conditions of each country, especially in low-income regions.\n",
        "\n",
        "Refinement of CO2 Data: Addressing the limitations in CO2 data through better modeling techniques to account for extreme values and non-linearity in the relationship between CO2 emissions and life expectancy."
      ],
      "metadata": {
        "id": "Wf3o4I4KXo--"
      }
    },
    {
      "cell_type": "markdown",
      "source": [
        "References\n",
        "\n",
        "    1) Mackenbach, J. P., Valverde, J. R., Bopp, M., Brønnum-Hansen, H., Deboosere, P., Kalediene, R., Kovács, K., Leinsalu, M., Martikainen, P., Menvielle, G., Regidor, E., & Nusselder, W. J. (2019). Determinants of inequalities in life expectancy: an international comparative study of eight risk factors. The Lancet. Public Health, 4(10), e529–e537. https://doi.org/10.1016/S2468-2667(19)30147-1\n",
        "    2) Hauck, K., Martin, S., & Smith, P. C. (2016). Priorities for action on the social determinants of health: Empirical evidence on the strongest associations with life expectancy in 54 low-income countries, 1990–2012. Social Science & Medicine (1982), 167, 88–98. https://doi.org/10.1016/j.socscimed.2016.08.035\n",
        "    3) Eriksen, S., & Wiese, R. (2019). Policy induced increases in private healthcare financing provide short-term relief of total healthcare expenditure growth: Evidence from OECD countries. European Journal of Political Economy, 59, 71–82. https://doi.org/10.1016/j.ejpoleco.2019.02.001\n",
        "    4) Bressler, R. D. (2021). The mortality cost of carbon. Nature Communications, 12(1), 1–12. https://doi.org/10.1038/s41467-021-24487-w"
      ],
      "metadata": {
        "id": "PtWgF7ITbFna"
      }
    }
  ]
}