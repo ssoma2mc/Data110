{
  "nbformat": 4,
  "nbformat_minor": 0,
  "metadata": {
    "colab": {
      "private_outputs": true,
      "provenance": [],
      "include_colab_link": true
    },
    "kernelspec": {
      "name": "python3",
      "display_name": "Python 3"
    },
    "language_info": {
      "name": "python"
    }
  },
  "cells": [
    {
      "cell_type": "markdown",
      "metadata": {
        "id": "view-in-github",
        "colab_type": "text"
      },
      "source": [
        "<a href=\"https://colab.research.google.com/github/ssoma2mc/Data110/blob/main/ShinkoSoma_Week6_HW_PenguinsDataset.ipynb\" target=\"_parent\"><img src=\"https://colab.research.google.com/assets/colab-badge.svg\" alt=\"Open In Colab\"/></a>"
      ]
    },
    {
      "cell_type": "markdown",
      "source": [
        "# Setting Up Your Environment and\n",
        "1. Install any necessary packages"
      ],
      "metadata": {
        "id": "HEqhCWnovnkz"
      }
    },
    {
      "cell_type": "code",
      "source": [
        "!pip install rpy2\n",
        "!pip install joypy"
      ],
      "metadata": {
        "id": "bDNjvIah8Auo"
      },
      "execution_count": null,
      "outputs": []
    },
    {
      "cell_type": "markdown",
      "source": [
        "2. Import the required libraries:"
      ],
      "metadata": {
        "id": "sU4hVHMgvyqr"
      }
    },
    {
      "cell_type": "code",
      "source": [
        "import pandas as pd\n",
        "import seaborn as sns\n",
        "import matplotlib.pyplot as plt\n",
        "import numpy as np\n",
        "from joypy import joyplot"
      ],
      "metadata": {
        "id": "2is_tYkxv3fb"
      },
      "execution_count": null,
      "outputs": []
    },
    {
      "cell_type": "markdown",
      "source": [
        "Part 2: Load and Explore the Dataset\n",
        "\n",
        "1. Load the Palmer Penguins dataset:\n",
        "\n",
        "url = \"https://raw.githubusercontent.com/mwaskom/seaborn-data/master/penguins.csv\"\n"
      ],
      "metadata": {
        "id": "5Vs2RF4Rv7Ad"
      }
    },
    {
      "cell_type": "code",
      "source": [
        "df=pd.read_csv(\"https://raw.githubusercontent.com/mwaskom/seaborn-data/master/penguins.csv\")\n",
        "df.head()\n",
        "df.info()"
      ],
      "metadata": {
        "id": "6QCHSOn0wImo"
      },
      "execution_count": null,
      "outputs": []
    },
    {
      "cell_type": "markdown",
      "source": [
        "- species: penguin species (Chinstrap, Adélie, or Gentoo)\n",
        "- culmen_length_mm: culmen length (mm)\n",
        "- culmen_depth_mm: culmen depth (mm)\n",
        "- flipper_length_mm: flipper length (mm)\n",
        "- body_mass_g: body mass (g)\n",
        "- island: island name (Dream, Torgersen, or Biscoe) in the Palmer Archipelago (Antarctica)\n",
        "- sex: penguin sex"
      ],
      "metadata": {
        "id": "tgDv9kmZAj8s"
      }
    },
    {
      "cell_type": "markdown",
      "source": [
        "2. The dataset contains missing values. Handle them by removing rows with NaN values:"
      ],
      "metadata": {
        "id": "zlBc4A29wJQB"
      }
    },
    {
      "cell_type": "code",
      "source": [
        "df_cleaned = df.dropna()\n",
        "print(df_cleaned.info())"
      ],
      "metadata": {
        "id": "7tQEwznIwN92"
      },
      "execution_count": null,
      "outputs": []
    },
    {
      "cell_type": "markdown",
      "source": [
        "# Part 2: Data Visualization\n",
        "\n",
        "Task 1: Boxplot - Analyzing Body Mass by Species\n",
        "Create a boxplot to compare the distribution of penguin body mass across different species:"
      ],
      "metadata": {
        "id": "XxVuiEy8wOmO"
      }
    },
    {
      "cell_type": "markdown",
      "source": [],
      "metadata": {
        "id": "yB4k24eDv4H7"
      }
    },
    {
      "cell_type": "code",
      "source": [
        "# Create a boxplot using 'df' as your DataFrame\n",
        "sns.boxplot(x='species', y='body_mass_g', data=df, color=\"skyblue\")\n",
        "\n",
        "# Optional: Enhance plot readability\n",
        "#plt.xticks(rotation=90)  # Rotate the month names for better readability # I did not rotate for better readability\n",
        "\n",
        "plt.title('Body Mass Index by Species of Penguin')\n",
        "plt.xlabel('Species')\n",
        "plt.ylabel('Body Mass (g)')\n",
        "\n",
        "plt.tight_layout()  # Adjust layout to make room for the rotated x-axis labels\n",
        "plt.show()"
      ],
      "metadata": {
        "id": "b7arlbJYwU35"
      },
      "execution_count": null,
      "outputs": []
    },
    {
      "cell_type": "markdown",
      "source": [
        "Interpretation: Based on the boxplot, answer the following:\n",
        "\n",
        "1. Which species has the largest median body mass?\n",
        "2. Which species has the widest range in body mass?\n",
        "3. Are there any outliers? If so, which species have them?"
      ],
      "metadata": {
        "id": "B2O0ZehfwV1w"
      }
    },
    {
      "cell_type": "markdown",
      "source": [
        "*Your anwswer is here *\n",
        "1. Gentoo\n",
        "2. Gentoo\n",
        "3. Chinstrap"
      ],
      "metadata": {
        "id": "SxCnIUPNwdYV"
      }
    },
    {
      "cell_type": "code",
      "source": [
        "#statistics = df.groupby('species')['body_mass_g'].describe()\n",
        "#print(statistics)\n",
        "\n",
        "#Q1 = df.groupby('species')['body_mass_g'].quantile(0.25)\n",
        "Q2 = df.groupby('species')['body_mass_g'].quantile(0.50)  # median\n",
        "#Q3 = df.groupby('species')['body_mass_g'].quantile(0.75)\n",
        "range_values = df.groupby('species')['body_mass_g'].agg(lambda x: x.max() - x.min())\n",
        "#std_dev = df.groupby('species')['body_mass_g'].std()\n",
        "\n",
        "#print(\"Statistics:\\n\", statistics)\n",
        "#print(\"\\nQuartiles (Q1, Q2, Q3):\")\n",
        "#print(f\"Q1: {Q1}\")\n",
        "print(f\"Q2 (Median): {Q2}\")\n",
        "#print(f\"Q3: {Q3}\")\n",
        "print(\"\\nRange of Body Mass:\")\n",
        "print(range_values)\n",
        "#print(\"\\nStandard Deviation:\")\n",
        "#print(std_dev)"
      ],
      "metadata": {
        "id": "YJ_zvupQgxwN"
      },
      "execution_count": null,
      "outputs": []
    },
    {
      "cell_type": "markdown",
      "source": [
        "Task 2: Violin Plot - Flipper Length Distribution by Species\n",
        "Create a violin plot to analyze the distribution of flipper length across species:"
      ],
      "metadata": {
        "id": "nUaripm8wf62"
      }
    },
    {
      "cell_type": "code",
      "source": [
        "#your code for task 2 is here\n",
        "\n",
        "# Create the violin plot\n",
        "#sns.violinplot(x='species', y='flipper_length_mm', data=df, inner=None, color=\"skyblue\")\n",
        "sns.violinplot(x='species', y='flipper_length_mm', data=df, color=\"skyblue\")\n",
        "#sns.violinplot(x='species', y='flipper_length_mm', data=df, inner = \"point\", color=\"skyblue\")\n",
        "#sns.violinplot(x='species', y='flipper_length_mm', data=df, inner = \"stick\", color=\"skyblue\")\n",
        "#sns.violinplot(x='species', y='flipper_length_mm', data=df, inner = \"quart\", color=\"skyblue\")\n",
        "\n",
        "# Customizing the plot\n",
        "plt.title('Flipper Length by Species of Penguin')\n",
        "plt.xlabel('Species')\n",
        "plt.ylabel('Flipper Length (mm)')\n",
        "\n",
        "# Rotate the x-axis labels for better readability if needed\n",
        "#plt.xticks(rotation=45)\n",
        "plt.show()\n"
      ],
      "metadata": {
        "id": "LE_rn94TwjCO"
      },
      "execution_count": null,
      "outputs": []
    },
    {
      "cell_type": "markdown",
      "source": [
        "Interpretation: Answer the following:\n",
        "\n",
        "1. Which species has the most symmetrical distribution?\n",
        "2. Which species has the widest spread of flipper lengths?\n",
        "3. How do the quartiles (white lines in the plot) compare for each species?"
      ],
      "metadata": {
        "id": "bIUx4SW1wmPj"
      }
    },
    {
      "cell_type": "markdown",
      "source": [
        "1. Adelie\n",
        "2. Adeile\n",
        "3.\n",
        "**Median (Q2):**  \n",
        "`Gentoo` boasts the highest median, followed by `Chinstrap`, while `Adelie` has the lowest. This suggests that `Gentoo` generally exhibits longer flipper lengths compared to the other two species.\n",
        "\n",
        "**Quartiles (Q1 and Q3):**  \n",
        "`Gentoo` also has the highest quartile values, reinforcing the trend that its flipper lengths are typically longer. `Chinstrap` sits in the middle, with quartiles slightly wider than `Adelie`, which shows a more compact distribution.\n",
        "\n",
        "**Range:**  \n",
        "When examining the range, we observe that `Gentoo` has the most concentrated distribution, with the smallest spread, while `Chinstrap` falls in between. However, a more precise calculation reveals that `Adelie` has the largest range, indicating the greatest variation in flipper lengths. On the other hand, `Gentoo` exhibits the smallest range, suggesting that its flipper lengths are more consistent, with less variation.\n"
      ],
      "metadata": {
        "id": "9024bQXxHtNc"
      }
    },
    {
      "cell_type": "code",
      "source": [
        "#statistics = df.groupby('species')['flipper_length_mm'].describe()\n",
        "\n",
        "Q1 = df.groupby('species')['flipper_length_mm'].quantile(0.25)\n",
        "Q2 = df.groupby('species')['flipper_length_mm'].quantile(0.50)  # median\n",
        "Q3 = df.groupby('species')['flipper_length_mm'].quantile(0.75)\n",
        "\n",
        "range_values = df.groupby('species')['flipper_length_mm'].agg(lambda x: x.max() - x.min())\n",
        "\n",
        "#std_dev = df.groupby('species')['flipper_length_mm'].std()\n",
        "\n",
        "#print(\"Statistics:\\n\", statistics)\n",
        "print(\"\\nQuartiles (Q1, Q2, Q3):\")\n",
        "print(f\"Q1: {Q1}\")\n",
        "print(f\"Q2 (Median): {Q2}\")\n",
        "print(f\"Q3: {Q3}\")\n",
        "print(\"\\nRange of flipper lengths:\")\n",
        "print(range_values)\n",
        "#print(\"\\nStandard Deviation:\")\n",
        "#print(std_dev)\n"
      ],
      "metadata": {
        "id": "uz_2JYvliBaV"
      },
      "execution_count": null,
      "outputs": []
    },
    {
      "cell_type": "markdown",
      "source": [
        "**Task 3**: Ridgeline Plot - Distribution of Bill Length by Island\n",
        "Use a ridgeline plot to visualize the distribution of bill length across islands:"
      ],
      "metadata": {
        "id": "QDL0M3lww2lq"
      }
    },
    {
      "cell_type": "code",
      "source": [
        "# your code should be here\n",
        "\n",
        "data=df[['bill_length_mm', 'island']] # Selecting the relevant columns\n",
        "\n",
        "# Create the Ridgeline plot\n",
        "fig, axes = joyplot(df,\n",
        "    by='island',  # This groups data by month\n",
        "    column='bill_length_mm',  # This specifies which column to plot densities fo\n",
        ")\n",
        "plt.show()"
      ],
      "metadata": {
        "id": "4dngtByNw4nc"
      },
      "execution_count": null,
      "outputs": []
    },
    {
      "cell_type": "code",
      "source": [
        "#your code need to be here\n",
        "\n",
        "# Create the Ridgeline plot\n",
        "fig, axes = joyplot(data,\n",
        "    by='island',  # This groups data by month\n",
        "    column='bill_length_mm',  # This specifies which column to plot densities for\n",
        "    figsize=(12, 8),  # Adjust the size of the plot as needed\n",
        "    colormap=plt.cm.viridis,  # Choose a colormap, e.g., viridis, plasma, inferno, magma\n",
        "    ylabelsize=12,  # Adjust the y-axis label size as needed\n",
        "    xlabelsize=12,  # Adjust the x-axis label size as needed\n",
        "    title=\"Ridgeline Plot of Mean Bill Length by Island\",  # Add a title\n",
        "    alpha=0.75  # Adjust the transparency of the filled areas\n",
        ")\n",
        "\n",
        "plt.show()\n"
      ],
      "metadata": {
        "id": "FYZJgDBw3gru"
      },
      "execution_count": null,
      "outputs": []
    },
    {
      "cell_type": "markdown",
      "source": [
        "Interpretation: Answer the following:\n",
        "1. Which island has the smallest range of bill lengths?\n",
        "2. Which island has the most uniform distribution?\n",
        "3. What differences do you notice between the islands in terms of bill length?"
      ],
      "metadata": {
        "id": "9ANVWrZTxCfb"
      }
    },
    {
      "cell_type": "markdown",
      "source": [
        "1. Torgersen\n",
        "2. Torgersen\n",
        "3.　Penguins from Torgersen Island exhibit a relatively narrow and uniform distribution around 37mm. In contrast, penguins from Dream and Biscoe Islands show wider distributions. These distributions display a bimodal pattern, with peaks around 39mm and 48mm, suggesting the possibility of observing different species of penguins.\n"
      ],
      "metadata": {
        "id": "zVCIde6E1WDE"
      }
    },
    {
      "cell_type": "code",
      "source": [
        "statistics = df.groupby('island')['bill_length_mm'].describe()\n",
        "print(statistics)\n",
        "\n",
        "Q1 = df.groupby('island')['bill_length_mm'].quantile(0.25)\n",
        "Q2 = df.groupby('island')['bill_length_mm'].quantile(0.50)  # median\n",
        "Q3 = df.groupby('island')['bill_length_mm'].quantile(0.75)\n",
        "range_values = df.groupby('island')['bill_length_mm'].agg(lambda x: x.max() - x.min())\n",
        "std_dev = df.groupby('island')['bill_length_mm'].std()\n",
        "\n",
        "print(\"Statistics:\\n\", statistics)\n",
        "print(\"\\nQuartiles (Q1, Q2, Q3):\")\n",
        "print(f\"Q1: {Q1}\")\n",
        "print(f\"Q2 (Median): {Q2}\")\n",
        "print(f\"Q3: {Q3}\")\n",
        "print(\"\\nRange of Bill Length:\")\n",
        "print(range_values)\n",
        "print(\"\\nStandard Deviation:\")\n",
        "print(std_dev)"
      ],
      "metadata": {
        "id": "DORPQ9pr3L6j"
      },
      "execution_count": null,
      "outputs": []
    },
    {
      "cell_type": "markdown",
      "source": [
        "upload your completed notebook (.ipynb) to Google Colab or GitHub.\n",
        "Submit the GitHub/Colab link in MS Teams under the assignment post."
      ],
      "metadata": {
        "id": "WclqVUSixJ1D"
      }
    }
  ]
}